{
 "cells": [
  {
   "cell_type": "code",
   "execution_count": 1,
   "id": "87ed308d-2027-44fa-b9e9-f515863ca70a",
   "metadata": {},
   "outputs": [],
   "source": [
    "from IPython.core.interactiveshell import InteractiveShell\n",
    "InteractiveShell.ast_node_interactivity = \"all\""
   ]
  },
  {
   "cell_type": "markdown",
   "id": "c996dd24-dd4c-450a-a04a-8294e99dfc66",
   "metadata": {},
   "source": [
    "This second tour covers more advanced modules that support professional programming needs. These modules rarely occur in small scripts.\n",
    "\n",
    "> 第二次参观涵盖了支持专业编程需求的更多高级模块。这些模块很少出现在小脚本中。"
   ]
  },
  {
   "cell_type": "markdown",
   "id": "a711213c-55ac-4756-9bd5-9de8e8f5fb75",
   "metadata": {},
   "source": [
    "## 11.1. Output Formatting"
   ]
  },
  {
   "cell_type": "markdown",
   "id": "7e0d6d7e-2404-448a-8203-db5791adea0a",
   "metadata": {},
   "source": [
    "The [`reprlib`](https://docs.python.org/3/library/reprlib.html#module-reprlib) module provides a version of [`repr()`](https://docs.python.org/3/library/functions.html#repr) customized for abbreviated displays of large or deeply nested containers:\n",
    "\n",
    "> [`reprlib`](https://docs.python.org/3/library/reprlib.html#module-reprlib)模块提供了[`repr()`](https://docs.python.org/3/library/functions.html#repr)的一个版本，为大型或深度嵌套容器的简略显示而定制："
   ]
  },
  {
   "cell_type": "code",
   "execution_count": 1,
   "id": "42201a7d-7941-41cb-b364-77bc37bebdd4",
   "metadata": {},
   "outputs": [
    {
     "data": {
      "text/plain": [
       "\"{'a', 'c', 'd', 'e', 'f', 'g', ...}\""
      ]
     },
     "execution_count": 1,
     "metadata": {},
     "output_type": "execute_result"
    }
   ],
   "source": [
    "import reprlib\n",
    "\n",
    "reprlib.repr(set('supercalifragilisticexpialidocious'))"
   ]
  },
  {
   "cell_type": "markdown",
   "id": "3836f0ea-9322-49a3-82fd-92c4f623096e",
   "metadata": {},
   "source": [
    "The [`pprint`](https://docs.python.org/3/library/pprint.html#module-pprint) module offers more sophisticated control over printing both built-in and user defined objects in a way that is readable by the interpreter. When the result is longer than one line, the “pretty printer” adds line breaks and indentation to more clearly reveal data structure:\n",
    "\n",
    "> [`pprint`](https://docs.python.org/3/library/pprint.html#module-pprint)模块提供了更复杂的控制，以解释器可读的方式打印内置和用户定义的对象。当结果超过一行时，\"漂亮打印机 \"会增加换行和缩进，以更清楚地显示数据结构："
   ]
  },
  {
   "cell_type": "code",
   "execution_count": 2,
   "id": "ec1f62b7-ba4a-46c8-b287-48f6b242e456",
   "metadata": {},
   "outputs": [
    {
     "name": "stdout",
     "output_type": "stream",
     "text": [
      "[[[['black', 'cyan'],\n",
      "   'white',\n",
      "   ['green', 'red']],\n",
      "  [['magenta', 'yellow'],\n",
      "   'blue']]]\n"
     ]
    }
   ],
   "source": [
    "import pprint\n",
    "t = [[[['black', 'cyan'], 'white', ['green', 'red']], [['magenta', \n",
    "                                                        'yellow'], 'blue']]]\n",
    "\n",
    "pprint.pprint(t, width=30)"
   ]
  },
  {
   "cell_type": "markdown",
   "id": "ca93ddd2-dc20-4f67-8eb6-aca3dc33c82f",
   "metadata": {},
   "source": [
    "The [`textwrap`](https://docs.python.org/3/library/textwrap.html#module-textwrap) module formats paragraphs of text to fit a given screen width:\n",
    "\n",
    "> [`textwrap`](https://docs.python.org/3/library/textwrap.html#module-textwrap)模块对文本段落进行格式化，以适应特定的屏幕宽度："
   ]
  },
  {
   "cell_type": "code",
   "execution_count": 3,
   "id": "bc3fc5e6-a842-4430-a116-03a2d74252e6",
   "metadata": {},
   "outputs": [
    {
     "name": "stdout",
     "output_type": "stream",
     "text": [
      "The wrap() method is just like fill()\n",
      "except that it returns  a list of\n",
      "strings instead of one big string with\n",
      "newlines to separate  the wrapped lines.\n"
     ]
    }
   ],
   "source": [
    "import textwrap\n",
    "\n",
    "doc = \"\"\"The wrap() method is just like fill() except that it returns \n",
    "a list of strings instead of one big string with newlines to separate \n",
    "the wrapped lines.\"\"\"\n",
    "\n",
    "print(textwrap.fill(doc, width=40))"
   ]
  },
  {
   "cell_type": "markdown",
   "id": "38b6b82c-c819-4239-8cfc-93d73350505b",
   "metadata": {},
   "source": [
    "The [`locale`](https://docs.python.org/3/library/locale.html#module-locale) module accesses a database of culture specific data formats. The grouping attribute of locale’s format function provides a direct way of formatting numbers with group separators:\n",
    "\n",
    "> [`locale`](https://docs.python.org/3/library/locale.html#module-locale)模块可以访问一个特定文化数据格式的数据库。locale's format函数的分组属性提供了一种用分组分隔符格式化数字的直接方法："
   ]
  },
  {
   "cell_type": "code",
   "execution_count": 4,
   "id": "853ea8c8-2d52-4286-9018-813b1ac734c3",
   "metadata": {},
   "outputs": [
    {
     "data": {
      "text/plain": [
       "'English_United States.1252'"
      ]
     },
     "execution_count": 4,
     "metadata": {},
     "output_type": "execute_result"
    }
   ],
   "source": [
    "import locale\n",
    "\n",
    "locale.setlocale(locale.LC_ALL, 'English_United States.1252')"
   ]
  },
  {
   "cell_type": "code",
   "execution_count": 5,
   "id": "98c05012-87a7-4aa0-bd7b-c04ee848d562",
   "metadata": {},
   "outputs": [
    {
     "name": "stderr",
     "output_type": "stream",
     "text": [
      "C:\\Users\\Administrator\\AppData\\Local\\Temp\\ipykernel_1976\\1843871177.py:3: DeprecationWarning: This method will be removed in a future version of Python. Use 'locale.format_string()' instead.\n",
      "  locale.format(\"%d\", x, grouping=True)\n"
     ]
    },
    {
     "data": {
      "text/plain": [
       "'1,234,567'"
      ]
     },
     "execution_count": 5,
     "metadata": {},
     "output_type": "execute_result"
    }
   ],
   "source": [
    "conv = locale.localeconv()    # get a mapping of conventions\n",
    "x = 1234567.8\n",
    "locale.format(\"%d\", x, grouping=True)"
   ]
  },
  {
   "cell_type": "code",
   "execution_count": 6,
   "id": "6523282c-70ed-4596-8f28-c4708a6f9a94",
   "metadata": {},
   "outputs": [
    {
     "data": {
      "text/plain": [
       "'$1,234,567.80'"
      ]
     },
     "execution_count": 6,
     "metadata": {},
     "output_type": "execute_result"
    }
   ],
   "source": [
    "locale.format_string(\"%s%.*f\", (conv['currency_symbol'],\n",
    "                               conv['frac_digits'], x), grouping=True)"
   ]
  },
  {
   "cell_type": "markdown",
   "id": "bd8f3fae-c05b-4ef0-8948-804bc2557507",
   "metadata": {},
   "source": [
    "## 11.2. Templating"
   ]
  },
  {
   "cell_type": "markdown",
   "id": "9e6c3c98-e34c-409c-9635-35459b5dbdef",
   "metadata": {},
   "source": [
    "The [`string`](https://docs.python.org/3/library/string.html#module-string) module includes a versatile [`Template`](https://docs.python.org/3/library/string.html#string.Template) class with a simplified syntax suitable for editing by end-users. This allows users to customize their applications without having to alter the application.\n",
    "\n",
    "The format uses placeholder names formed by `$` with valid Python identifiers (alphanumeric characters and underscores). Surrounding the placeholder with braces allows it to be followed by more alphanumeric letters with no intervening spaces. Writing `$$` creates a single escaped `$`:\n",
    "\n",
    "> [`string`](https://docs.python.org/3/library/string.html#module-string)模块包括一个多功能的[`Template`](https://docs.python.org/3/library/string.html#string.Template)类，具有适合终端用户编辑的简化语法。这使得用户可以定制他们的应用程序，而不必改变应用程序。\n",
    ">\n",
    "> 该格式使用由`$`组成的占位符名称，并带有有效的Python标识符（字母数字字符和下划线）。用大括号包围占位符，允许它后面有更多的字母和数字，没有中间的空格。写入`$$`会产生一个转义的`$`："
   ]
  },
  {
   "cell_type": "code",
   "execution_count": 7,
   "id": "06a62a96-2997-4ce8-a96c-f0050be6a83d",
   "metadata": {},
   "outputs": [
    {
     "data": {
      "text/plain": [
       "'Nottinghamfolk send $10 to the ditch fund.'"
      ]
     },
     "execution_count": 7,
     "metadata": {},
     "output_type": "execute_result"
    }
   ],
   "source": [
    "from string import Template\n",
    "\n",
    "t = Template('${village}folk send $$10 to $cause.')\n",
    "t.substitute(village='Nottingham', cause='the ditch fund')"
   ]
  },
  {
   "cell_type": "markdown",
   "id": "17f862dc-6540-4caf-a4a6-5f5583835f53",
   "metadata": {},
   "source": []
  }
 ],
 "metadata": {
  "kernelspec": {
   "display_name": "Python 3 (ipykernel)",
   "language": "python",
   "name": "python3"
  },
  "language_info": {
   "codemirror_mode": {
    "name": "ipython",
    "version": 3
   },
   "file_extension": ".py",
   "mimetype": "text/x-python",
   "name": "python",
   "nbconvert_exporter": "python",
   "pygments_lexer": "ipython3",
   "version": "3.10.4"
  }
 },
 "nbformat": 4,
 "nbformat_minor": 5
}
