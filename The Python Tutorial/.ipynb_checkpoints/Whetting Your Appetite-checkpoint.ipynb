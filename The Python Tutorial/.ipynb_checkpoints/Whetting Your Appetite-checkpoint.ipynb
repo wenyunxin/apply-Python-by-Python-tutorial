{
 "cells": [
  {
   "cell_type": "markdown",
   "id": "2062ea90-0cdc-49a7-825d-88c20166863f",
   "metadata": {},
   "source": [
    "Python is an easy to learn, powerful programming language. It has efficient high-level data structures and a simple but effective approach to object-oriented programming. Python’s elegant syntax and dynamic typing, together with its interpreted nature, make it an ideal language for scripting and rapid application development in many areas on most platforms.\n",
    "> Python是一种易于学习、功能强大的编程语言。它具有高效的高层数据结构和简单而有效的面向对象的编程方法。Python优雅的语法和动态类型，加上它的解释性质，使它成为大多数平台上许多领域的脚本和快速应用开发的理想语言。"
   ]
  },
  {
   "cell_type": "markdown",
   "id": "25bf397c-ead7-4290-96b1-6a8831a05678",
   "metadata": {},
   "source": [
    "The Python interpreter and the extensive standard library are freely available in source or binary form for all major platforms from the Python web site, https://www.python.org/, and may be freely distributed. The same site also contains distributions of and pointers to many free third party Python modules, programs and tools, and additional documentation.\n",
    "> Python 解释器和广泛的标准库以源代码或二进制形式从 Python 网站 https://www.python.org/ 免费提供给所有主要平台，并可以免费分发。该网站还包含许多免费的第三方Python模块、程序和工具的发布和指向，以及额外的文档。"
   ]
  },
  {
   "cell_type": "markdown",
   "id": "f3d1c6da-569d-4cef-a227-f77441e3e614",
   "metadata": {},
   "source": [
    "The Python interpreter is easily extended with new functions and data types implemented in C or C++ (or other languages callable from C). Python is also suitable as an extension language for customizable applications.\n",
    "> Python 解释器很容易用 C 或 C++ (或其他可从 C 调用的语言) 实现的新函数和数据类型进行扩展。Python也适合作为可定制应用程序的扩展语言。"
   ]
  },
  {
   "cell_type": "markdown",
   "id": "8352dab5-283d-45c7-bf3a-658c1171495a",
   "metadata": {},
   "source": [
    "This tutorial introduces the reader informally to the basic concepts and features of the Python language and system. It helps to have a Python interpreter handy for hands-on experience, but all examples are self-contained, so the tutorial can be read off-line as well.\n",
    "> 本教程向读者非正式地介绍了Python语言和系统的基本概念和特性。有一个Python解释器有助于亲身体验，但所有的例子都是独立的，所以本教程也可以离线阅读。"
   ]
  },
  {
   "cell_type": "markdown",
   "id": "10e3834f-e4ee-4969-a97e-76d5373a9cbc",
   "metadata": {},
   "source": [
    "For a description of standard objects and modules, see [The Python Standard Library](https://docs.python.org/3/library/index.html#library-index). [The Python Language Reference](https://docs.python.org/3/reference/index.html#reference-index) gives a more formal definition of the language. To write extensions in C or C++, read [Extending and Embedding the Python Interpreter](https://docs.python.org/3/extending/index.html#extending-index) and [Python/C API Reference Manual](https://docs.python.org/3/c-api/index.html#c-api-index). There are also several books covering Python in depth.\n",
    "> 关于标准对象和模块的描述，见 [Python标准库](https://docs.python.org/3/library/index.html#library-index)。[The Python Language Reference](https://docs.python.org/3/reference/index.html#reference-index) 给出了该语言的更正式的定义。要用 C 或 C++ 编写扩展，请阅读 [Extending and Embedding the Python Interpreter](https://docs.python.org/3/extending/index.html#extending-index) 和 [Python/C API Reference Manual](https://docs.python.org/3/c-api/index.html#c-api-index) 。还有几本深入介绍 Python 的书。"
   ]
  },
  {
   "cell_type": "markdown",
   "id": "174d50d5-4dcd-41d5-ac6d-3a6d15729a39",
   "metadata": {},
   "source": [
    "This tutorial does not attempt to be comprehensive and cover every single feature, or even every commonly used feature. Instead, it introduces many of Python’s most noteworthy features, and will give you a good idea of the language’s flavor and style. After reading it, you will be able to read and write Python modules and programs, and you will be ready to learn more about the various Python library modules described in [The Python Standard Library](https://docs.python.org/3/library/index.html#library-index).\n",
    "> 本教程并不试图全面涵盖每一个特性，甚至每一个常用的特性。相反，它介绍了许多 Python 最值得注意的特性，并将使你对这种语言的风味和风格有一个很好的了解。读完后，你将能够阅读和编写 Python 模块和程序，并准备好进一步了解 [The Python Standard Library](https://docs.python.org/3/library/index.html#library-index)中描述的各种 Python 库模块。"
   ]
  },
  {
   "cell_type": "markdown",
   "id": "694f06d0-3ee5-4daf-9af0-46c2ab5e7bea",
   "metadata": {},
   "source": [
    "The [Glossary](https://docs.python.org/3/glossary.html#glossary) is also worth going through.\n",
    "> 词汇表](https://docs.python.org/3/glossary.html#glossary)也值得翻阅。"
   ]
  },
  {
   "cell_type": "markdown",
   "id": "a8201e75-7e4e-44a8-a6d6-d180c8249ceb",
   "metadata": {},
   "source": [
    "### Whetting Your Appetite\n",
    "激发你的食欲"
   ]
  },
  {
   "cell_type": "markdown",
   "id": "912bcf36-274d-42b0-a27d-9269bdde9337",
   "metadata": {},
   "source": [
    "If you do much work on computers, eventually you find that there’s some task you’d like to automate. For example, you may wish to perform a search-and-replace over a large number of text files, or rename and rearrange a bunch of photo files in a complicated way. Perhaps you’d like to write a small custom database, or a specialized GUI application, or a simple game.\n",
    "> 如果你在电脑上做了很多工作，最终你会发现有一些你想自动化的任务。例如，你可能希望对大量的文本文件进行搜索和替换，或者以复杂的方式重命名和重新排列一堆照片文件。也许你想编写一个小型的自定义数据库，或一个专门的GUI应用程序，或一个简单的游戏。"
   ]
  },
  {
   "cell_type": "markdown",
   "id": "bf20e3f2-c879-4d07-876b-45c3b5c5b4a8",
   "metadata": {},
   "source": [
    "If you’re a professional software developer, you may have to work with several C/C++/Java libraries but find the usual write/compile/test/re-compile cycle is too slow. Perhaps you’re writing a test suite for such a library and find writing the testing code a tedious task. Or maybe you’ve written a program that could use an extension language, and you don’t want to design and implement a whole new language for your application.\n",
    "> 如果你是一个专业的软件开发者，你可能需要和几个C/C++/Java库一起工作，但发现通常的写/编译/测试/再编译的周期太慢。也许你正在为这样的库编写测试套件，并发现编写测试代码是一项乏味的工作。或者你已经写了一个可以使用扩展语言的程序，但你不想为你的应用程序设计和实现一种全新的语言。"
   ]
  }
 ],
 "metadata": {
  "kernelspec": {
   "display_name": "Python 3 (ipykernel)",
   "language": "python",
   "name": "python3"
  },
  "language_info": {
   "codemirror_mode": {
    "name": "ipython",
    "version": 3
   },
   "file_extension": ".py",
   "mimetype": "text/x-python",
   "name": "python",
   "nbconvert_exporter": "python",
   "pygments_lexer": "ipython3",
   "version": "3.10.4"
  }
 },
 "nbformat": 4,
 "nbformat_minor": 5
}
