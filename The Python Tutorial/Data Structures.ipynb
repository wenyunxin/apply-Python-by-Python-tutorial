{
 "cells": [
  {
   "cell_type": "code",
   "execution_count": 2,
   "id": "7601cb04-f5de-411b-9043-c03288b6cabc",
   "metadata": {},
   "outputs": [],
   "source": [
    "from IPython.core.interactiveshell import InteractiveShell\n",
    "InteractiveShell.ast_node_interactivity = \"all\""
   ]
  },
  {
   "cell_type": "markdown",
   "id": "749f7e8b-b23f-4a2c-a1ae-4e4785d01038",
   "metadata": {},
   "source": [
    "This chapter describes some things you’ve learned about already in more detail, and adds some new things as well.\n",
    "\n",
    "> 本章更详细地描述了你已经学过的一些东西，同时也增加了一些新的东西。"
   ]
  },
  {
   "cell_type": "markdown",
   "id": "3110e5d3-ae13-4565-9956-0705b6b125d6",
   "metadata": {},
   "source": [
    "## 5.1. More on Lists"
   ]
  },
  {
   "cell_type": "markdown",
   "id": "446a45e8-19ee-4bd3-bbc6-68be6ccf9e89",
   "metadata": {},
   "source": [
    "The list data type has some more methods. Here are all of the methods of list objects:\n",
    "\n",
    "> 列表数据类型还有一些方法。下面是列表对象的所有方法："
   ]
  },
  {
   "cell_type": "markdown",
   "id": "1b09950d-5de1-42e1-83f4-03baf15d1f38",
   "metadata": {},
   "source": [
    "list.**append**(*x*)\n",
    "\n",
    "​    Add an item to the end of the list. Equivalent to `a[len(a):] = [x]`.\n",
    "\n",
    "> list.**append**(*x*)\n",
    ">\n",
    "> ​    在列表的末尾添加一个项目。相当于 `a[len(a):] = [x]`。"
   ]
  },
  {
   "cell_type": "markdown",
   "id": "f181b48a-1da0-4516-8705-a2e19f84aadd",
   "metadata": {},
   "source": [
    "list.**extend**(*iterable*)\n",
    "\n",
    "Extend the list by appending all the items from the iterable. Equivalent to `a[len(a):] = iterable`.\n",
    "\n",
    "> list.**extend**(*iterable*)\n",
    ">\n",
    "> 通过追加迭代器中的所有项目来扩展列表。相当于 `a[len(a):] = iterable`。"
   ]
  },
  {
   "cell_type": "markdown",
   "id": "9c61d724-cf54-45e8-98db-582741a5f210",
   "metadata": {},
   "source": [
    "list.**insert**(*i*, *x*)\n",
    "\n",
    "Insert an item at a given position. The first argument is the index of the element before which to insert, so `a.insert(0, x)` inserts at the front of the list, and `a.insert(len(a), x)` is equivalent to `a.append(x)`.\n",
    "\n",
    "> list.**insert**(*i*, *x*)\n",
    ">\n",
    "> 在一个给定的位置插入一个项目。第一个参数是要插入的元素的索引，所以`a.insert(0, x)`在列表的前面插入，`a.insert(len(a), x)`等同于`a.append(x)`。"
   ]
  },
  {
   "cell_type": "markdown",
   "id": "bfc8aaf4-20ae-4205-bef0-9e7c2188eafd",
   "metadata": {},
   "source": [
    "list.**remove**(*x*)\n",
    "\n",
    "Remove the first item from the list whose value is equal to *x*. It raises a [`ValueError`](https://docs.python.org/3/library/exceptions.html#ValueError) if there is no such item.\n",
    "\n",
    "> list.**remove**(*x*)\n",
    ">\n",
    "> 从列表中移除第一个值等于*x*的项目。如果没有这样的项目，它会引发一个 [`ValueError`](https://docs.python.org/3/library/exceptions.html#ValueError)。"
   ]
  },
  {
   "cell_type": "markdown",
   "id": "3d512a21-3ed5-425d-83c8-d69870830dd4",
   "metadata": {},
   "source": [
    "list.**pop**([*i*])\n",
    "\n",
    "Remove the item at the given position in the list, and return it. If no index is specified, `a.pop()` removes and returns the last item in the list. (The square brackets around the *i* in the method signature denote that the parameter is optional, not that you should type square brackets at that position. You will see this notation frequently in the Python Library Reference.)\n",
    "\n",
    "> list.**pop**([*i*])\n",
    ">\n",
    "> 删除列表中给定位置的项目，并返回该项目。如果没有指定索引，`a.pop()`将删除并返回列表中的最后一个项目。(方法署名中*i*周围的方括号表示该参数是可选的，而不是说你应该在该位置输入方括号。你会在 Python Library Reference 中经常看到这个符号）。"
   ]
  },
  {
   "cell_type": "markdown",
   "id": "e68e716f-d6a8-466a-8352-fcc6a7aa6070",
   "metadata": {},
   "source": [
    "list.**clear**()\n",
    "\n",
    "Remove all items from the list. Equivalent to `del a[:]`.\n",
    "\n",
    "> list.**clear**()\n",
    ">\n",
    "> 从列表中删除所有项目。相当于`del a[:]`。"
   ]
  },
  {
   "cell_type": "markdown",
   "id": "b40cf3e8-8f93-4f7a-bcc6-da70aca02c45",
   "metadata": {},
   "source": [
    "list.**index**(*x*[, *start*[, *end*]])\n",
    "\n",
    "Return zero-based index in the list of the first item whose value is equal to *x*. Raises a [`ValueError`](https://docs.python.org/3/library/exceptions.html#ValueError) if there is no such item.\n",
    "\n",
    "The optional arguments *start* and *end* are interpreted as in the slice notation and are used to limit the search to a particular subsequence of the list. The returned index is computed relative to the beginning of the full sequence rather than the *start* argument.\n",
    "\n",
    "> list.**index**(*x*[, *start*[, *end*]])\n",
    ">\n",
    "> 返回列表中第一个值等于*x*的项目的零基索引。如果没有这样的项目，会引发一个[`ValueError`](https://docs.python.org/3/library/exceptions.html#ValueError)。\n",
    ">\n",
    "> 可选的参数*start*和*end*被解释为切片符号，用于限制搜索到列表的特定子序列。返回的索引是相对于整个序列的开始而不是*start*参数计算的。"
   ]
  },
  {
   "cell_type": "markdown",
   "id": "e8cf022f-f0db-4613-85db-bdf21c6c4486",
   "metadata": {},
   "source": [
    "list.**count**(*x*)\n",
    "\n",
    "Return the number of times *x* appears in the list.\n",
    "\n",
    "> list.**count**(*x*)\n",
    ">\n",
    "> 返回*x*在列表中出现的次数。"
   ]
  },
  {
   "cell_type": "markdown",
   "id": "adf85138-2ccd-4abb-9780-d1a123f160fc",
   "metadata": {},
   "source": [
    "list.**sort**(*, *key=None*, *reverse=False*)\n",
    "\n",
    "Sort the items of the list in place (the arguments can be used for sort customization, see [`sorted()`](https://docs.python.org/3/library/functions.html#sorted) for their explanation).\n",
    "\n",
    "> list.**sort**(*, *key=None*, *reverse=False*)\n",
    ">\n",
    "> 对列表中的项目进行原地排序（参数可用于排序定制，其解释见 [`sorted()`](https://docs.python.org/3/library/functions.html#sorted)）。"
   ]
  },
  {
   "cell_type": "markdown",
   "id": "b889227c-3a85-48eb-9db7-932748cd0a56",
   "metadata": {},
   "source": [
    "list.**reverse**()\n",
    "\n",
    "Reverse the elements of the list in place.\n",
    "\n",
    "> list.**reverse**()\n",
    ">\n",
    "> 将列表中的元素原地反转。"
   ]
  },
  {
   "cell_type": "markdown",
   "id": "c3ccc7ce-5d34-45f4-8c97-dd684c0e30e4",
   "metadata": {},
   "source": [
    "list.**copy**()\n",
    "\n",
    "Return a shallow copy of the list. Equivalent to `a[:]`.\n",
    "\n",
    "> list.**copy**()\n",
    ">\n",
    "> 返回列表的一个浅层拷贝。等同于 `a[:]`。"
   ]
  },
  {
   "cell_type": "markdown",
   "id": "c5cd3c08-afb3-4a23-bd92-e24c9efadb3f",
   "metadata": {},
   "source": [
    "An example that uses most of the list methods:\n",
    "\n",
    "> 一个使用大部分列表方法的例子："
   ]
  },
  {
   "cell_type": "code",
   "execution_count": 3,
   "id": "4cd81cf2-fee3-4b10-a59c-574a6539d7fa",
   "metadata": {},
   "outputs": [
    {
     "data": {
      "text/plain": [
       "2"
      ]
     },
     "execution_count": 3,
     "metadata": {},
     "output_type": "execute_result"
    },
    {
     "data": {
      "text/plain": [
       "0"
      ]
     },
     "execution_count": 3,
     "metadata": {},
     "output_type": "execute_result"
    },
    {
     "data": {
      "text/plain": [
       "3"
      ]
     },
     "execution_count": 3,
     "metadata": {},
     "output_type": "execute_result"
    },
    {
     "data": {
      "text/plain": [
       "6"
      ]
     },
     "execution_count": 3,
     "metadata": {},
     "output_type": "execute_result"
    },
    {
     "data": {
      "text/plain": [
       "['banana', 'apple', 'kiwi', 'banana', 'pear', 'apple', 'orange']"
      ]
     },
     "execution_count": 3,
     "metadata": {},
     "output_type": "execute_result"
    },
    {
     "data": {
      "text/plain": [
       "['banana', 'apple', 'kiwi', 'banana', 'pear', 'apple', 'orange', 'grape']"
      ]
     },
     "execution_count": 3,
     "metadata": {},
     "output_type": "execute_result"
    },
    {
     "data": {
      "text/plain": [
       "['apple', 'apple', 'banana', 'banana', 'grape', 'kiwi', 'orange', 'pear']"
      ]
     },
     "execution_count": 3,
     "metadata": {},
     "output_type": "execute_result"
    },
    {
     "data": {
      "text/plain": [
       "'pear'"
      ]
     },
     "execution_count": 3,
     "metadata": {},
     "output_type": "execute_result"
    }
   ],
   "source": [
    "fruits = ['orange', 'apple', 'pear', 'banana', 'kiwi', 'apple', 'banana']\n",
    "fruits.count('apple')\n",
    "\n",
    "fruits.count('tangerine')\n",
    "\n",
    "fruits.index('banana')\n",
    "\n",
    "fruits.index('banana', 4)  # Find next banana starting a position 4\n",
    "\n",
    "fruits.reverse()\n",
    "fruits\n",
    "\n",
    "fruits.append('grape')\n",
    "fruits\n",
    "\n",
    "fruits.sort()\n",
    "fruits\n",
    "\n",
    "fruits.pop()"
   ]
  },
  {
   "cell_type": "markdown",
   "id": "96bde313-b7bd-4057-82d4-0f82525418ed",
   "metadata": {},
   "source": [
    "You might have noticed that methods like `insert`, `remove` or `sort` that only modify the list have no return value printed – they return the default `None`. [1](https://docs.python.org/3/tutorial/datastructures.html#id2) This is a design principle for all mutable data structures in Python.\n",
    "\n",
    "> 你可能已经注意到，像 `insert`, `remove` 或 `sort` 这样只修改列表的方法没有打印返回值 - 它们返回默认的 `None`。[1] 这是 Python 中所有可变数据结构的设计原则。"
   ]
  },
  {
   "cell_type": "markdown",
   "id": "aa1bc205-6604-4b70-9b02-6b4e578c62ab",
   "metadata": {},
   "source": [
    "Another thing you might notice is that not all data can be sorted or compared. For instance, `[None, 'hello', 10]` doesn’t sort because integers can’t be compared to strings and *None* can’t be compared to other types. Also, there are some types that don’t have a defined ordering relation. For example, `3+4j < 5+7j` isn’t a valid comparison.\n",
    "\n",
    "> 你可能注意到的另一件事是，不是所有的数据都能被排序或比较。例如，`[None, 'hello', 10]`不能排序，因为整数不能与字符串比较，*None*不能与其他类型比较。另外，有一些类型没有定义的排序关系。例如，`3+4j < 5+7j`不是一个有效的比较。"
   ]
  },
  {
   "cell_type": "markdown",
   "id": "90dcbdf8-debe-40e8-aec2-d7c65d27d8d5",
   "metadata": {},
   "source": [
    "### 5.1.1. Using Lists as Stacks"
   ]
  },
  {
   "cell_type": "markdown",
   "id": "e7118faa-9b51-4692-982b-19e82d519600",
   "metadata": {},
   "source": [
    "The list methods make it very easy to use a list as a stack, where the last element added is the first element retrieved (“last-in, first-out”). To add an item to the top of the stack, use `append()`. To retrieve an item from the top of the stack, use `pop()` without an explicit index. For example:\n",
    "\n",
    "> 列表方法使得使用列表作为一个堆栈变得非常容易，其中最后添加的元素是第一个被取回的元素（\"last-in, first-out\"）。要将一个项目添加到堆栈的顶部，使用 `append()`。要从栈顶取回一个项目，使用`pop()`，没有明确的索引。比如说："
   ]
  },
  {
   "cell_type": "code",
   "execution_count": 4,
   "id": "bc9bb0c1-233a-4024-858e-0862973de339",
   "metadata": {},
   "outputs": [
    {
     "data": {
      "text/plain": [
       "[3, 4, 5, 6, 7]"
      ]
     },
     "execution_count": 4,
     "metadata": {},
     "output_type": "execute_result"
    },
    {
     "data": {
      "text/plain": [
       "7"
      ]
     },
     "execution_count": 4,
     "metadata": {},
     "output_type": "execute_result"
    },
    {
     "data": {
      "text/plain": [
       "[3, 4, 5, 6]"
      ]
     },
     "execution_count": 4,
     "metadata": {},
     "output_type": "execute_result"
    },
    {
     "data": {
      "text/plain": [
       "6"
      ]
     },
     "execution_count": 4,
     "metadata": {},
     "output_type": "execute_result"
    },
    {
     "data": {
      "text/plain": [
       "5"
      ]
     },
     "execution_count": 4,
     "metadata": {},
     "output_type": "execute_result"
    },
    {
     "data": {
      "text/plain": [
       "[3, 4]"
      ]
     },
     "execution_count": 4,
     "metadata": {},
     "output_type": "execute_result"
    }
   ],
   "source": [
    "stack = [3, 4, 5]\n",
    "stack.append(6)\n",
    "stack.append(7)\n",
    "stack\n",
    "\n",
    "stack.pop()\n",
    "\n",
    "stack\n",
    "\n",
    "stack.pop()\n",
    "\n",
    "stack.pop()\n",
    "\n",
    "stack"
   ]
  },
  {
   "cell_type": "markdown",
   "id": "1dbfc1ec-580d-4eab-ae33-36c07d7f9b70",
   "metadata": {},
   "source": [
    "### 5.1.2. Using Lists as Queues"
   ]
  },
  {
   "cell_type": "markdown",
   "id": "c470b046-d50d-4a00-9804-73c3892ca05c",
   "metadata": {},
   "source": [
    "It is also possible to use a list as a queue, where the first element added is the first element retrieved (“first-in, first-out”); however, lists are not efficient for this purpose. While appends and pops from the end of list are fast, doing inserts or pops from the beginning of a list is slow (because all of the other elements have to be shifted by one).\n",
    "\n",
    "> 也可以把列表作为一个队列，第一个添加的元素就是第一个取回的元素（\"first-in, first-out\"）；但是，列表在这个用途上并不高效。虽然从列表的末尾追加和弹出是快速的，但从列表的开头插入或弹出是缓慢的（因为所有其他的元素都要移位一个）。"
   ]
  },
  {
   "cell_type": "markdown",
   "id": "408d12b2-7ab5-43fb-b928-5a458b173c4e",
   "metadata": {},
   "source": [
    "To implement a queue, use [`collections.deque`](https://docs.python.org/3/library/collections.html#collections.deque) which was designed to have fast appends and pops from both ends. For example:\n",
    "\n",
    "> 要实现一个队列，可以使用[`collections.deque`](https://docs.python.org/3/library/collections.html#collections.deque)，它被设计成可以从两端快速追加和弹出。比如说。"
   ]
  },
  {
   "cell_type": "code",
   "execution_count": 5,
   "id": "d41540ca-8c47-4d55-81ef-5c32214c25bd",
   "metadata": {},
   "outputs": [
    {
     "data": {
      "text/plain": [
       "'Eric'"
      ]
     },
     "execution_count": 5,
     "metadata": {},
     "output_type": "execute_result"
    },
    {
     "data": {
      "text/plain": [
       "'John'"
      ]
     },
     "execution_count": 5,
     "metadata": {},
     "output_type": "execute_result"
    },
    {
     "data": {
      "text/plain": [
       "deque(['Michael', 'Terry', 'Graham'])"
      ]
     },
     "execution_count": 5,
     "metadata": {},
     "output_type": "execute_result"
    }
   ],
   "source": [
    "from collections import deque\n",
    "queue = deque([\"Eric\", \"John\", \"Michael\"])\n",
    "queue.append(\"Terry\")           # Terry arrives\n",
    "queue.append(\"Graham\")          # Graham arrives\n",
    "queue.popleft()                 # The first to arrive now leaves\n",
    "\n",
    "queue.popleft()                 # The second to arrive now leaves\n",
    "\n",
    "queue                           # Remaining queue in order of arrival"
   ]
  },
  {
   "cell_type": "markdown",
   "id": "98b276f0-d15b-4c13-b5df-99e1fc8b6e55",
   "metadata": {},
   "source": [
    "### 5.1.3. List Comprehensions"
   ]
  },
  {
   "cell_type": "markdown",
   "id": "f17f26fc-1135-4ca2-9c1e-e1eb6d12782e",
   "metadata": {},
   "source": [
    "List comprehensions provide a concise way to create lists. Common applications are to make new lists where each element is the result of some operations applied to each member of another sequence or iterable, or to create a subsequence of those elements that satisfy a certain condition.\n",
    "\n",
    "> 列表解析提供了一种创建列表的简明方式。常见的应用是创建新的列表，其中每个元素都是应用于另一个序列或可迭代的每个成员的一些操作的结果，或者创建一个满足某个条件的元素的子序列。"
   ]
  },
  {
   "cell_type": "markdown",
   "id": "25457275-9088-4b47-a393-f3c34a08ebeb",
   "metadata": {},
   "source": [
    "For example, assume we want to create a list of squares, like:\n",
    "\n",
    "> 例如，假设我们想创建一个平方的列表，如："
   ]
  },
  {
   "cell_type": "code",
   "execution_count": 6,
   "id": "f85565fe-5d9b-42f2-81c5-cc6c3aed648c",
   "metadata": {},
   "outputs": [
    {
     "data": {
      "text/plain": [
       "[0, 1, 4, 9, 16, 25, 36, 49, 64, 81]"
      ]
     },
     "execution_count": 6,
     "metadata": {},
     "output_type": "execute_result"
    }
   ],
   "source": [
    "squares = []\n",
    "for x in range(10):\n",
    "    squares.append(x**2)\n",
    "\n",
    "squares"
   ]
  },
  {
   "cell_type": "markdown",
   "id": "3af0b187-bcad-423b-8c49-9a7ae7b9a545",
   "metadata": {},
   "source": [
    "Note that this creates (or overwrites) a variable named `x` that still exists after the loop completes. We can calculate the list of squares without any side effects using:\n",
    "\n",
    "> 注意，这将创建（或覆盖）一个名为`x`的变量，该变量在循环完成后仍然存在。我们可以在没有任何副作用的情况下，用以下方法计算出平方数列表："
   ]
  },
  {
   "cell_type": "code",
   "execution_count": 11,
   "id": "d3444ebb-b93c-4381-b670-ce2f6b66de9b",
   "metadata": {},
   "outputs": [
    {
     "data": {
      "text/plain": [
       "[0, 1, 4, 9, 16, 25, 36, 49, 64, 81]"
      ]
     },
     "execution_count": 11,
     "metadata": {},
     "output_type": "execute_result"
    }
   ],
   "source": [
    "squares = list(map(lambda x: x**2, range(10)))\n",
    "squares"
   ]
  },
  {
   "cell_type": "markdown",
   "id": "7f7a8b6c-6cbb-49b0-83a5-1ff279ce28eb",
   "metadata": {},
   "source": [
    "or, equivalently:\n",
    "\n",
    "> 或者，等同于："
   ]
  },
  {
   "cell_type": "code",
   "execution_count": 12,
   "id": "6cb39dcd-60f6-4432-b985-b68f4b274a23",
   "metadata": {},
   "outputs": [
    {
     "data": {
      "text/plain": [
       "[0, 1, 4, 9, 16, 25, 36, 49, 64, 81]"
      ]
     },
     "execution_count": 12,
     "metadata": {},
     "output_type": "execute_result"
    }
   ],
   "source": [
    "squares = [x**2 for x in range(10)]\n",
    "squares"
   ]
  },
  {
   "cell_type": "markdown",
   "id": "636e015f-1ac8-41e4-9a8b-23a739bc22fe",
   "metadata": {},
   "source": [
    "which is more concise and readable.\n",
    "\n",
    "> 这是更简洁、更易读的。"
   ]
  },
  {
   "cell_type": "markdown",
   "id": "009ecb78-21f4-42a2-8bcf-89d6ba994cec",
   "metadata": {},
   "source": [
    "A list comprehension consists of brackets containing an expression followed by a `for` clause, then zero or more `for` or `if` clauses. The result will be a new list resulting from evaluating the expression in the context of the `for` and `if` clauses which follow it. For example, this listcomp combines the elements of two lists if they are not equal:\n",
    "\n",
    "> 列表解析由包含一个表达式的括号组成，后面是一个`for`子句，然后是零个或多个`for`或`if`子句。结果是一个新的列表，它是在后面的 `for`和 `if`子句的上下文中对该表达式进行运算求值的结果。例如，如果两个列表的元素不相等，这个listcomp就会把它们组合起来："
   ]
  },
  {
   "cell_type": "code",
   "execution_count": 13,
   "id": "2eaed1d2-70f0-468f-b5e8-19816b682cf5",
   "metadata": {},
   "outputs": [
    {
     "data": {
      "text/plain": [
       "[(1, 3), (1, 4), (2, 3), (2, 1), (2, 4), (3, 1), (3, 4)]"
      ]
     },
     "execution_count": 13,
     "metadata": {},
     "output_type": "execute_result"
    }
   ],
   "source": [
    "[(x, y) for x in [1,2,3] for y in [3,1,4] if x != y]"
   ]
  },
  {
   "cell_type": "markdown",
   "id": "9d72d0c6-fd12-4a09-bcf8-fd1b84826766",
   "metadata": {},
   "source": [
    "and it’s equivalent to:\n",
    "\n",
    "> 并相当于："
   ]
  },
  {
   "cell_type": "code",
   "execution_count": 14,
   "id": "223fd902-d54c-495e-acf4-6daf3703d8b4",
   "metadata": {},
   "outputs": [
    {
     "data": {
      "text/plain": [
       "[(1, 3), (1, 4), (2, 3), (2, 1), (2, 4), (3, 1), (3, 4)]"
      ]
     },
     "execution_count": 14,
     "metadata": {},
     "output_type": "execute_result"
    }
   ],
   "source": [
    "combs = []\n",
    "for x in [1,2,3]:\n",
    "    for y in [3,1,4]:\n",
    "        if x != y:\n",
    "            combs.append((x, y))\n",
    "\n",
    "combs"
   ]
  },
  {
   "cell_type": "markdown",
   "id": "6b4da882-23b3-4f0d-8017-67ad23644f94",
   "metadata": {},
   "source": [
    "Note how the order of the [`for`](https://docs.python.org/3/reference/compound_stmts.html#for) and [`if`](https://docs.python.org/3/reference/compound_stmts.html#if) statements is the same in both these snippets.\n",
    "\n",
    "> 注意[`for`](https://docs.python.org/3/reference/compound_stmts.html#for)和[`if`](https://docs.python.org/3/reference/compound_stmts.html#if)语句的顺序在这两个代码段中是如何相同的。"
   ]
  },
  {
   "cell_type": "markdown",
   "id": "9fa3a13d-8c19-4149-93a8-3b8e978b630d",
   "metadata": {},
   "source": [
    "If the expression is a tuple (e.g. the `(x, y)` in the previous example), it must be parenthesized.\n",
    "\n",
    "> 如果表达式是一个元组（例如前面例子中的`(x, y)`），它必须用括号表示。"
   ]
  },
  {
   "cell_type": "code",
   "execution_count": 17,
   "id": "ef7b7fd9-adb5-4b8b-8b78-1a759698cc30",
   "metadata": {},
   "outputs": [
    {
     "data": {
      "text/plain": [
       "[-8, -4, 0, 4, 8]"
      ]
     },
     "execution_count": 17,
     "metadata": {},
     "output_type": "execute_result"
    },
    {
     "data": {
      "text/plain": [
       "[0, 2, 4]"
      ]
     },
     "execution_count": 17,
     "metadata": {},
     "output_type": "execute_result"
    },
    {
     "data": {
      "text/plain": [
       "[4, 2, 0, 2, 4]"
      ]
     },
     "execution_count": 17,
     "metadata": {},
     "output_type": "execute_result"
    },
    {
     "data": {
      "text/plain": [
       "['banana', 'loganberry', 'passion fruit']"
      ]
     },
     "execution_count": 17,
     "metadata": {},
     "output_type": "execute_result"
    },
    {
     "data": {
      "text/plain": [
       "[(0, 0), (1, 1), (2, 4), (3, 9), (4, 16), (5, 25)]"
      ]
     },
     "execution_count": 17,
     "metadata": {},
     "output_type": "execute_result"
    },
    {
     "data": {
      "text/plain": [
       "[(0, 0), (1, 1), (2, 4), (3, 9), (4, 16), (5, 25)]"
      ]
     },
     "execution_count": 17,
     "metadata": {},
     "output_type": "execute_result"
    },
    {
     "data": {
      "text/plain": [
       "[1, 2, 3, 4, 5, 6, 7, 8, 9]"
      ]
     },
     "execution_count": 17,
     "metadata": {},
     "output_type": "execute_result"
    }
   ],
   "source": [
    "vec = [-4, -2, 0, 2, 4]\n",
    "# create a new list with the values doubled\n",
    "[x*2 for x in vec]\n",
    "\n",
    "# filter the list to exclude negative numbers\n",
    "[x for x in vec if x >= 0]\n",
    "\n",
    "# apply a function to all the elements\n",
    "[abs(x) for x in vec]\n",
    "\n",
    "# call a method on each element\n",
    "freshfruit = ['  banana', '  loganberry ', 'passion fruit  ']\n",
    "[weapon.strip() for weapon in freshfruit]\n",
    "\n",
    "# create a list of 2-tuples like (number, square)\n",
    "[(x, x**2) for x in range(6)]\n",
    "\n",
    "# the tuple must be parenthesized, otherwise an error is raised\n",
    "[(x, x**2) for x in range(6)]\n",
    "\n",
    "\n",
    "\n",
    "\n",
    "# flatten a list using a listcomp with two 'for'\n",
    "vec = [[1,2,3], [4,5,6], [7,8,9]]\n",
    "[num for elem in vec for num in elem]"
   ]
  },
  {
   "cell_type": "code",
   "execution_count": 19,
   "id": "407a97b4-d8b9-45e2-ba49-4e88e7521902",
   "metadata": {},
   "outputs": [
    {
     "data": {
      "text/plain": [
       "[1, 2, 3, 4, 5, 6, 7, 8, 9]"
      ]
     },
     "execution_count": 19,
     "metadata": {},
     "output_type": "execute_result"
    }
   ],
   "source": [
    "# the last one of above cell is equvivalent to:\n",
    "\n",
    "list1 = []\n",
    "for elem in vec:\n",
    "    for num in elem:\n",
    "        list1.append(num)\n",
    "        \n",
    "list1"
   ]
  },
  {
   "cell_type": "markdown",
   "id": "4ab76415-f4c0-41ff-bb32-bf557368e32e",
   "metadata": {},
   "source": [
    "List comprehensions can contain complex expressions and nested functions:\n",
    "\n",
    "> 列表解析可以包含复杂的表达式和嵌套函数。"
   ]
  },
  {
   "cell_type": "code",
   "execution_count": 20,
   "id": "8779086f-2fa2-4c2d-8de8-52c9e390ca1c",
   "metadata": {},
   "outputs": [
    {
     "data": {
      "text/plain": [
       "['3.1', '3.14', '3.142', '3.1416', '3.14159']"
      ]
     },
     "execution_count": 20,
     "metadata": {},
     "output_type": "execute_result"
    }
   ],
   "source": [
    "from math import pi\n",
    "[str(round(pi, i)) for i in range(1, 6)]"
   ]
  },
  {
   "cell_type": "markdown",
   "id": "d76a4239-e515-4714-b535-f4daf3685bac",
   "metadata": {},
   "source": [
    "### 5.1.4. Nested List Comprehensions"
   ]
  },
  {
   "cell_type": "markdown",
   "id": "0b2cca88-1d8d-4b9e-a799-0a87fdffd9fc",
   "metadata": {},
   "source": []
  }
 ],
 "metadata": {
  "kernelspec": {
   "display_name": "Python 3 (ipykernel)",
   "language": "python",
   "name": "python3"
  },
  "language_info": {
   "codemirror_mode": {
    "name": "ipython",
    "version": 3
   },
   "file_extension": ".py",
   "mimetype": "text/x-python",
   "name": "python",
   "nbconvert_exporter": "python",
   "pygments_lexer": "ipython3",
   "version": "3.10.4"
  }
 },
 "nbformat": 4,
 "nbformat_minor": 5
}
