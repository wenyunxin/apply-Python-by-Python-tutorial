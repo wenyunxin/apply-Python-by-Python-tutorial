{
 "cells": [
  {
   "cell_type": "code",
   "execution_count": 1,
   "id": "1fcc0cd4-b8d5-4d4e-993d-f68bf3f7a951",
   "metadata": {},
   "outputs": [],
   "source": [
    "from IPython.core.interactiveshell import InteractiveShell\n",
    "InteractiveShell.ast_node_interactivity = \"all\""
   ]
  },
  {
   "cell_type": "markdown",
   "id": "2e7c3faf-a8f3-43c1-832f-e6751dfd0025",
   "metadata": {},
   "source": [
    "This chapter explains the meaning of the elements of expressions in Python.\n",
    "\n",
    "**Syntax Notes:** In this and the following chapters, extended BNF notation will be used to describe syntax, not lexical analysis. When (one alternative of) a syntax rule has the form\n",
    "\n",
    "> 本章解释了 Python 中表达式元素的含义。\n",
    ">\n",
    "> **语法说明：**在这一章和后面的章节中，将使用扩展的BNF符号来描述语法，而不是词法分析。当一个语法规则的（一种选择）形式为"
   ]
  },
  {
   "cell_type": "code",
   "execution_count": 3,
   "id": "b75ec724-cf8e-477d-8b18-31d849692dcf",
   "metadata": {},
   "outputs": [
    {
     "ename": "SyntaxError",
     "evalue": "invalid syntax (360705083.py, line 1)",
     "output_type": "error",
     "traceback": [
      "\u001b[1;36m  Input \u001b[1;32mIn [3]\u001b[1;36m\u001b[0m\n\u001b[1;33m    name ::=  othername\u001b[0m\n\u001b[1;37m          ^\u001b[0m\n\u001b[1;31mSyntaxError\u001b[0m\u001b[1;31m:\u001b[0m invalid syntax\n"
     ]
    }
   ],
   "source": [
    "name ::=  othername"
   ]
  },
  {
   "cell_type": "markdown",
   "id": "2ddc1e41-9b32-4808-bf0f-95cf108d31c1",
   "metadata": {},
   "source": [
    "and no semantics are given, the semantics of this form of `name` are the same as for `othername`.\n",
    "\n",
    "> 并且没有给出语义，这种形式的 `name` 的语义与 `othername` 的语义相同。"
   ]
  },
  {
   "cell_type": "markdown",
   "id": "e81d66f2-d0f6-42a8-9687-d9070c4af8d9",
   "metadata": {},
   "source": [
    "## 6.1. Arithmetic conversions"
   ]
  },
  {
   "cell_type": "markdown",
   "id": "a1b635be-384d-45aa-94a2-9a06894dc276",
   "metadata": {},
   "source": [
    "When a description of an arithmetic operator below uses the phrase “the numeric arguments are converted to a common type”, this means that the operator implementation for built-in types works as follows:\n",
    "\n",
    "- If either argument is a complex number, the other is converted to complex;\n",
    "- otherwise, if either argument is a floating point number, the other is converted to floating point;\n",
    "- otherwise, both must be integers and no conversion is necessary.\n",
    "\n",
    "Some additional rules apply for certain operators (e.g., a string as a left argument to the ‘%’ operator). Extensions must define their own conversion behavior.\n",
    "\n",
    "> 当下面对一个算术运算符的描述使用 \"数字参数被转换为普通类型\"这一短语时，这意味着内置类型的运算符实现的工作方式如下：\n",
    ">\n",
    "> - 如果任何一个参数是复数，另一个参数被转换为复数。\n",
    "> - 否则，如果任何一个参数是浮点数，另一个就转换为浮点数。\n",
    "> - 否则，两个都必须是整数，不需要转换。\n",
    ">\n",
    "> 一些额外的规则适用于某些运算符（例如，一个字符串作为'%'运算符的左边参数）。扩展必须定义他们自己的转换行为。"
   ]
  },
  {
   "cell_type": "markdown",
   "id": "e01d9331-d134-41f9-af5e-0915a68c8087",
   "metadata": {},
   "source": [
    "## 6.2. Atoms"
   ]
  },
  {
   "cell_type": "markdown",
   "id": "71bcdf8f-ead8-4892-a6c4-cae8ac288640",
   "metadata": {},
   "source": [
    "Atoms are the most basic elements of expressions. The simplest atoms are identifiers or literals. Forms enclosed in parentheses, brackets or braces are also categorized syntactically as atoms. The syntax for atoms is:\n",
    "\n",
    "> 原子是表达式的最基本元素。最简单的原子是标识符或字元。被括号、大括号或小括号包围的形式在语法上也被归类为原子。原子的语法是："
   ]
  },
  {
   "cell_type": "raw",
   "id": "8de5e396-d2b5-49a4-be47-cfec1ed5d375",
   "metadata": {},
   "source": [
    "atom      ::=  identifier | literal | enclosure\n",
    "enclosure ::=  parenth_form | list_display | dict_display | set_display\n",
    "               | generator_expression | yield_atom"
   ]
  },
  {
   "cell_type": "markdown",
   "id": "a72f6781-99e5-4dcd-8b18-b1c9df01485d",
   "metadata": {},
   "source": [
    "### 6.2.1. Identifiers (Names)"
   ]
  },
  {
   "cell_type": "markdown",
   "id": "12e64288-5d58-45de-8c50-f520646bae1d",
   "metadata": {},
   "source": [
    "An identifier occurring as an atom is a name. See section [Identifiers and keywords](https://docs.python.org/3/reference/lexical_analysis.html#identifiers) for lexical definition and section [Naming and binding](https://docs.python.org/3/reference/executionmodel.html#naming) for documentation of naming and binding.\n",
    "\n",
    "When the name is bound to an object, evaluation of the atom yields that object. When a name is not bound, an attempt to evaluate it raises a [`NameError`](https://docs.python.org/3/library/exceptions.html#NameError) exception.\n",
    "\n",
    "**Private name mangling:** When an identifier that textually occurs in a class definition begins with two or more underscore characters and does not end in two or more underscores, it is considered a *private name* of that class. Private names are transformed to a longer form before code is generated for them. The transformation inserts the class name, with leading underscores removed and a single underscore inserted, in front of the name. For example, the identifier `__spam` occurring in a class named `Ham` will be transformed to `_Ham__spam`. This transformation is independent of the syntactical context in which the identifier is used. If the transformed name is extremely long (longer than 255 characters), implementation defined truncation may happen. If the class name consists only of underscores, no transformation is done.\n",
    "\n",
    "> 作为一个原子出现的标识符是一个名字。词法定义见[标识符和关键字](https://docs.python.org/3/reference/lexical_analysis.html#identifiers)一节，命名和绑定的文档见[命名和绑定](https://docs.python.org/3/reference/executionmodel.html#naming)。\n",
    ">\n",
    "> 当名字被绑定到一个对象时，对原子的运算求值会产生该对象。当一个名字没有被绑定时，试图对其进行运算求值会引发 [`NameError`](https://docs.python.org/3/library/exceptions.html#NameError) 异常。\n",
    ">\n",
    "> **私有名称的混用：**当一个文本出现在类定义中的标识符以两个或多个下划线字符开始，而不是以两个或多个下划线结束时，它被认为是该类的一个*私有名称*。在为它们生成代码之前，私有名称会被转换为一个较长的形式。这种转换在名字前面插入类的名字，去掉前面的下划线，插入一个下划线。例如，在一个名为 `Ham` 的类中出现的标识符`__spam`将被转换为`_Ham__spam`。这种转换与标识符使用的语法环境无关。如果转换后的名称非常长（超过255个字符），可能会发生执行定义的截断。如果类的名称只由下划线组成，则不做任何转换。"
   ]
  },
  {
   "cell_type": "markdown",
   "id": "5233f48e-88b5-4828-a0ee-47bf5e795db9",
   "metadata": {},
   "source": [
    "### 6.2.2. Literals"
   ]
  },
  {
   "cell_type": "markdown",
   "id": "258db8ff-f99e-4093-8ff4-dcea29fddb32",
   "metadata": {},
   "source": [
    "Python supports string and bytes literals and various numeric literals:\n",
    "\n",
    "> Python支持字符串和字节字元以及各种数字字元："
   ]
  },
  {
   "cell_type": "code",
   "execution_count": 3,
   "id": "0febb59b-f49f-4fd2-80fd-7be0ba396e4c",
   "metadata": {},
   "outputs": [
    {
     "ename": "SyntaxError",
     "evalue": "invalid syntax (2881672812.py, line 1)",
     "output_type": "error",
     "traceback": [
      "\u001b[1;36m  Input \u001b[1;32mIn [3]\u001b[1;36m\u001b[0m\n\u001b[1;33m    literal ::=  stringliteral | bytesliteral\u001b[0m\n\u001b[1;37m             ^\u001b[0m\n\u001b[1;31mSyntaxError\u001b[0m\u001b[1;31m:\u001b[0m invalid syntax\n"
     ]
    }
   ],
   "source": [
    "literal ::=  stringliteral | bytesliteral\n",
    "             | integer | floatnumber | imagnumber"
   ]
  },
  {
   "cell_type": "markdown",
   "id": "09efc3a9-c00e-4017-971d-bc552bfdd13b",
   "metadata": {},
   "source": [
    "Evaluation of a literal yields an object of the given type (string, bytes, integer, floating point number, complex number) with the given value. The value may be approximated in the case of floating point and imaginary (complex) literals. See section [Literals](https://docs.python.org/3/reference/lexical_analysis.html#literals) for details.\n",
    "\n",
    "All literals correspond to immutable data types, and hence the object’s identity is less important than its value. Multiple evaluations of literals with the same value (either the same occurrence in the program text or a different occurrence) may obtain the same object or a different object with the same value.\n",
    "\n",
    "> 对字面符号的运算求值的会产生一个给定类型（字符串、字节、整数、浮点数、复数）的对象，其值为给定值。对于浮点数和虚数（复数）字面符号，其值可能是近似的。详见[字面符号](https://docs.python.org/3/reference/lexical_analysis.html#literals)一节。\n",
    ">\n",
    "> 所有的字面符号都对应于不可变的数据类型，因此对象的身份不如它的值重要。对具有相同值的字面符号进行多次运算求值（无论是程序文本中的相同出现还是不同出现），都可能获得相同的对象或具有相同值的不同对象。"
   ]
  },
  {
   "cell_type": "markdown",
   "id": "dc7888ec-92b3-48a7-85f7-a55f9be8f983",
   "metadata": {},
   "source": [
    "### 6.2.3. Parenthesized forms"
   ]
  },
  {
   "cell_type": "markdown",
   "id": "b3b16d76-734d-42a6-b7b1-1aeeaa6f333f",
   "metadata": {},
   "source": [
    "A parenthesized form is an optional expression list enclosed in parentheses:\n",
    "\n",
    "> 小括号形式是一个用小括号括起来的可选表达式列表："
   ]
  },
  {
   "cell_type": "code",
   "execution_count": 4,
   "id": "1be8c822-0650-4cab-95d6-649bfcb51794",
   "metadata": {},
   "outputs": [
    {
     "ename": "SyntaxError",
     "evalue": "invalid syntax (3489637264.py, line 1)",
     "output_type": "error",
     "traceback": [
      "\u001b[1;36m  Input \u001b[1;32mIn [4]\u001b[1;36m\u001b[0m\n\u001b[1;33m    parenth_form ::=  \"(\" [starred_expression] \")\"\u001b[0m\n\u001b[1;37m                  ^\u001b[0m\n\u001b[1;31mSyntaxError\u001b[0m\u001b[1;31m:\u001b[0m invalid syntax\n"
     ]
    }
   ],
   "source": [
    "parenth_form ::=  \"(\" [starred_expression] \")\""
   ]
  },
  {
   "cell_type": "markdown",
   "id": "95240c5d-62b8-4201-a253-0f853ef668e7",
   "metadata": {},
   "source": [
    "A parenthesized expression list yields whatever that expression list yields: if the list contains at least one comma, it yields a tuple; otherwise, it yields the single expression that makes up the expression list.\n",
    "\n",
    "An empty pair of parentheses yields an empty tuple object. Since tuples are immutable, the same rules as for literals apply (i.e., two occurrences of the empty tuple may or may not yield the same object).\n",
    "\n",
    "Note that tuples are not formed by the parentheses, but rather by use of the comma operator. The exception is the empty tuple, for which parentheses *are* required — allowing unparenthesized “nothing” in expressions would cause ambiguities and allow common typos to pass uncaught.\n",
    "\n",
    "> 一个带括号的表达式列表产生任何该表达式列表的结果：如果该列表至少包含一个逗号，它产生一个元组；否则，它产生构成该表达式列表的单个表达式。\n",
    ">\n",
    "> 一对空的括号会产生一个空的元组对象。因为元组是不可变的，所以适用与字面符号相同的规则（也就是说，空元组的两次出现可能产生也可能不产生相同的对象）。\n",
    ">\n",
    "> 注意，元组不是由括号形成的，而是通过使用逗号运算符形成的。空元组是个例外，对于它来说，括号*是*必须的--允许表达式中没有括号的 \"nothing\"会导致歧义，并允许常见的打字错误不被发现。"
   ]
  },
  {
   "cell_type": "code",
   "execution_count": 13,
   "id": "6c0dc255-d89d-4773-97dc-a84bbe13df22",
   "metadata": {},
   "outputs": [
    {
     "data": {
      "text/plain": [
       "()"
      ]
     },
     "execution_count": 13,
     "metadata": {},
     "output_type": "execute_result"
    },
    {
     "data": {
      "text/plain": [
       "tuple"
      ]
     },
     "execution_count": 13,
     "metadata": {},
     "output_type": "execute_result"
    }
   ],
   "source": [
    "T = ()\n",
    "T\n",
    "type(T)"
   ]
  },
  {
   "cell_type": "markdown",
   "id": "f8f1d1aa-956b-41ff-9375-dfb712c95ae0",
   "metadata": {},
   "source": [
    "### 6.2.4. Displays for lists, sets and dictionaries"
   ]
  },
  {
   "cell_type": "markdown",
   "id": "e8a8067e-3131-4f1f-a376-9b30db47b310",
   "metadata": {},
   "source": [
    "For constructing a list, a set or a dictionary Python provides special syntax called “displays”, each of them in two flavors:\n",
    "\n",
    "- either the container contents are listed explicitly, or\n",
    "- they are computed via a set of looping and filtering instructions, called a *comprehension*.\n",
    "\n",
    "Common syntax elements for comprehensions are:\n",
    "\n",
    "> 为了构造一个列表、一个集合或一个字典，Python 提供了特殊的语法，称为 \"displays\"，它们各有两种风格：\n",
    ">\n",
    "> - 要么明确地列出容器的内容，要么\n",
    "> - 它们是通过一组循环和过滤指令来计算的，称为 *解析式*。\n",
    ">\n",
    "> 解析式的常见语法元素是："
   ]
  },
  {
   "cell_type": "raw",
   "id": "8d1acde5-f010-46cd-ab08-56e7471fefe4",
   "metadata": {},
   "source": [
    "comprehension ::=  assignment_expression comp_for\n",
    "comp_for      ::=  [\"async\"] \"for\" target_list \"in\" or_test [comp_iter]\n",
    "comp_iter     ::=  comp_for | comp_if\n",
    "comp_if       ::=  \"if\" or_test [comp_iter]"
   ]
  },
  {
   "cell_type": "markdown",
   "id": "e56bc886-8c34-4092-aa1c-a147e75b2f01",
   "metadata": {},
   "source": [
    "The comprehension consists of a single expression followed by at least one `for` clause and zero or more `for` or `if` clauses. In this case, the elements of the new container are those that would be produced by considering each of the `for` or `if` clauses a block, nesting from left to right, and evaluating the expression to produce an element each time the innermost block is reached.\n",
    "\n",
    "However, aside from the iterable expression in the leftmost `for` clause, the comprehension is executed in a separate implicitly nested scope. This ensures that names assigned to in the target list don’t “leak” into the enclosing scope.\n",
    "\n",
    "The iterable expression in the leftmost `for` clause is evaluated directly in the enclosing scope and then passed as an argument to the implicitly nested scope. Subsequent `for` clauses and any filter condition in the leftmost `for` clause cannot be evaluated in the enclosing scope as they may depend on the values obtained from the leftmost iterable. For example: `[x*y for x in range(10) for y in range(x, x+10)]`.\n",
    "\n",
    "To ensure the comprehension always results in a container of the appropriate type, `yield` and `yield from` expressions are prohibited in the implicitly nested scope.\n",
    "\n",
    "Since Python 3.6, in an [`async def`](https://docs.python.org/3/reference/compound_stmts.html#async-def) function, an `async for` clause may be used to iterate over a [asynchronous iterator](https://docs.python.org/3/glossary.html#term-asynchronous-iterator). A comprehension in an `async def` function may consist of either a `for` or `async for` clause following the leading expression, may contain additional `for` or `async for` clauses, and may also use [`await`](https://docs.python.org/3/reference/expressions.html#await) expressions. If a comprehension contains either `async for` clauses or `await` expressions it is called an *asynchronous comprehension*. An asynchronous comprehension may suspend the execution of the coroutine function in which it appears. See also [**PEP 530**](https://www.python.org/dev/peps/pep-0530).\n",
    "\n",
    "*New in version 3.6:* Asynchronous comprehensions were introduced.\n",
    "\n",
    "*Changed in version 3.8:* `yield` and `yield from` prohibited in the implicitly nested scope.\n",
    "\n",
    "> 解析式由一个表达式组成，后面至少有一个 `for` 子句和零个或多个 `for` 或 `if` 子句。在这种情况下，新容器的元素是那些通过将每个 `for` 或 `if` 子句视为一个块，从左到右嵌套，并在每次到达最里面的块时运算求值表达式以产生一个元素所产生的元素。\n",
    ">\n",
    "> 然而，除了最左边的 `for` 子句中的可迭代表达式外，解析式是在一个单独的隐式嵌套作用域内执行的。这确保了在目标列表中分配的名字不会 \"泄漏\"到闭合的作用域中。\n",
    ">\n",
    "> 最左边的 `for` 子句中的可迭代表达式直接在闭合的作用域中被运算求值，然后作为参数传递给隐式嵌套的作用域。后续的 `for` 子句和最左边的 `for` 子句中的任何过滤条件不能在闭合的作用域中被运算求值，因为它们可能依赖于从最左边的可迭代获取的值。例如：`[x*y for x in range(10) for y in range(x, x+10)]`。\n",
    ">\n",
    "> 为了确保解析式的结果总是适当类型的容器，在隐式嵌套的作用域内禁止使用 `yield` 和 `yield from` 表达式。\n",
    ">\n",
    "> 从Python 3.6开始，在一个 [`async def`](https://docs.python.org/3/reference/compound_stmts.html#async-def) 函数中，可以使用 `async for` 子句来迭代一个[异步迭代器](https://docs.python.org/3/glossary.html#term-asynchronous-iterator)。在 `async def` 函数中的解析式可以由一个 `for` 或 `async for` 子句组成，紧跟在前导表达式之后，可以包含额外的 `for` 或 `async for` 子句，也可以使用[`await`](https://docs.python.org/3/reference/expressions.html#await) 表达式。如果一个解析式包含 `async for` 子句或`await`表达式，它就被称为*异步解析式*。一个异步解析式可能会暂停执行它出现在其中的轮回函数。另见[**PEP 530**](https://www.python.org/dev/peps/pep-0530)。\n",
    ">\n",
    "> *在3.6版本中新增：*引入了异步解析式。\n",
    ">\n",
    "> *在3.8版中改变了：*禁止在隐式嵌套的范围内使用 `yield` 和 `yield from`。"
   ]
  },
  {
   "cell_type": "code",
   "execution_count": 4,
   "id": "992080cf-e8c2-4729-b1fe-bfab22d5ee7f",
   "metadata": {
    "collapsed": true,
    "jupyter": {
     "outputs_hidden": true
    },
    "tags": []
   },
   "outputs": [
    {
     "data": {
      "text/plain": [
       "[0,\n",
       " 0,\n",
       " 0,\n",
       " 0,\n",
       " 0,\n",
       " 0,\n",
       " 0,\n",
       " 0,\n",
       " 0,\n",
       " 0,\n",
       " 1,\n",
       " 2,\n",
       " 3,\n",
       " 4,\n",
       " 5,\n",
       " 6,\n",
       " 7,\n",
       " 8,\n",
       " 9,\n",
       " 10,\n",
       " 4,\n",
       " 6,\n",
       " 8,\n",
       " 10,\n",
       " 12,\n",
       " 14,\n",
       " 16,\n",
       " 18,\n",
       " 20,\n",
       " 22,\n",
       " 9,\n",
       " 12,\n",
       " 15,\n",
       " 18,\n",
       " 21,\n",
       " 24,\n",
       " 27,\n",
       " 30,\n",
       " 33,\n",
       " 36,\n",
       " 16,\n",
       " 20,\n",
       " 24,\n",
       " 28,\n",
       " 32,\n",
       " 36,\n",
       " 40,\n",
       " 44,\n",
       " 48,\n",
       " 52,\n",
       " 25,\n",
       " 30,\n",
       " 35,\n",
       " 40,\n",
       " 45,\n",
       " 50,\n",
       " 55,\n",
       " 60,\n",
       " 65,\n",
       " 70,\n",
       " 36,\n",
       " 42,\n",
       " 48,\n",
       " 54,\n",
       " 60,\n",
       " 66,\n",
       " 72,\n",
       " 78,\n",
       " 84,\n",
       " 90,\n",
       " 49,\n",
       " 56,\n",
       " 63,\n",
       " 70,\n",
       " 77,\n",
       " 84,\n",
       " 91,\n",
       " 98,\n",
       " 105,\n",
       " 112,\n",
       " 64,\n",
       " 72,\n",
       " 80,\n",
       " 88,\n",
       " 96,\n",
       " 104,\n",
       " 112,\n",
       " 120,\n",
       " 128,\n",
       " 136,\n",
       " 81,\n",
       " 90,\n",
       " 99,\n",
       " 108,\n",
       " 117,\n",
       " 126,\n",
       " 135,\n",
       " 144,\n",
       " 153,\n",
       " 162]"
      ]
     },
     "execution_count": 4,
     "metadata": {},
     "output_type": "execute_result"
    },
    {
     "data": {
      "text/plain": [
       "list"
      ]
     },
     "execution_count": 4,
     "metadata": {},
     "output_type": "execute_result"
    }
   ],
   "source": [
    "L = [x*y for x in range(10) for y in range(x, x + 10)]\n",
    "L\n",
    "type(L)"
   ]
  },
  {
   "cell_type": "markdown",
   "id": "cd44b9b1-ea6f-4478-ba87-f7d018e29b7f",
   "metadata": {},
   "source": [
    "### 6.2.5. List displays"
   ]
  },
  {
   "cell_type": "markdown",
   "id": "b606b44e-f479-41c8-858e-ac8322667a52",
   "metadata": {},
   "source": [
    "A list display is a possibly empty series of expressions enclosed in square brackets:\n",
    "\n",
    "> 列表显示是一系列用方括号括起来的可能是空的表达式："
   ]
  },
  {
   "cell_type": "raw",
   "id": "4c0b8131-c01d-4455-bd82-c8174839b104",
   "metadata": {},
   "source": [
    "list_display ::=  \"[\" [starred_list | comprehension] \"]\""
   ]
  },
  {
   "cell_type": "markdown",
   "id": "a320759f-d6d9-453b-8b2f-0ce18e88cccf",
   "metadata": {},
   "source": [
    "A list display yields a new list object, the contents being specified by either a list of expressions or a comprehension. When a comma-separated list of expressions is supplied, its elements are evaluated from left to right and placed into the list object in that order. When a comprehension is supplied, the list is constructed from the elements resulting from the comprehension.\n",
    "\n",
    "> 列表显示会产生一个新的列表对象，其内容由表达式列表或解析式指定。当提供逗号分隔的表达式列表时，其元素会从左到右被运算求值，并按顺序放入列表对象中。当提供一个解析式时，列表是由解析式产生的元素构建的。"
   ]
  },
  {
   "cell_type": "markdown",
   "id": "95a56213-c4b3-4b05-b44f-64e895037384",
   "metadata": {},
   "source": [
    "### 6.2.6. Set displays"
   ]
  },
  {
   "cell_type": "markdown",
   "id": "4eabf440-61bf-475b-aa2e-6425cacc7b6f",
   "metadata": {},
   "source": [
    "A set display is denoted by curly braces and distinguishable from dictionary displays by the lack of colons separating keys and values:\n",
    "\n",
    "> 集合显示用大括号表示，并与字典显示区分开来，因为键和值之间没有冒号："
   ]
  },
  {
   "cell_type": "raw",
   "id": "e9f97a23-2d2e-4861-b0b2-f7dd51b72c87",
   "metadata": {},
   "source": [
    "set_display ::=  \"{\" (starred_list | comprehension) \"}\""
   ]
  },
  {
   "cell_type": "markdown",
   "id": "cf22807e-88ae-4807-a05c-efd0cb22bdb4",
   "metadata": {},
   "source": [
    "A set display yields a new mutable set object, the contents being specified by either a sequence of expressions or a comprehension. When a comma-separated list of expressions is supplied, its elements are evaluated from left to right and added to the set object. When a comprehension is supplied, the set is constructed from the elements resulting from the comprehension.\n",
    "\n",
    "An empty set cannot be constructed with `{}`; this literal constructs an empty dictionary.\n",
    "\n",
    "> 集合显示产生一个新的可变集合对象，其内容由表达式序列或解析式指定。当提供一个逗号分隔的表达式列表时，其元素会从左到右被运算求值并添加到集合对象中。当提供一个解析式时，集合是由解析式产生的元素构造的。\n",
    ">\n",
    "> 空集不能用 `{}` 来构造；这个字面意思是构造一个空字典。"
   ]
  },
  {
   "cell_type": "markdown",
   "id": "51263781-01aa-4a88-a491-91e9a21db03e",
   "metadata": {},
   "source": [
    "### 6.2.7. Dictionary displays"
   ]
  },
  {
   "cell_type": "markdown",
   "id": "b52349fe-a49a-45fb-9cd3-f00c7f108e30",
   "metadata": {},
   "source": [
    "A dictionary display is a possibly empty series of key/datum pairs enclosed in curly braces:\n",
    "\n",
    "> 字典显示是一系列可能是空的、用大括号括起来的键/数据对："
   ]
  },
  {
   "cell_type": "raw",
   "id": "4ab04275-1643-485e-890a-fcdf05c5a853",
   "metadata": {},
   "source": [
    "dict_display       ::=  \"{\" [key_datum_list | dict_comprehension] \"}\"\n",
    "key_datum_list     ::=  key_datum (\",\" key_datum)* [\",\"]\n",
    "key_datum          ::=  expression \":\" expression | \"**\" or_expr\n",
    "dict_comprehension ::=  expression \":\" expression comp_for"
   ]
  },
  {
   "cell_type": "markdown",
   "id": "17446c5a-9a77-49d9-8970-1d275740368d",
   "metadata": {},
   "source": [
    "A dictionary display yields a new dictionary object.\n",
    "\n",
    "If a comma-separated sequence of key/datum pairs is given, they are evaluated from left to right to define the entries of the dictionary: each key object is used as a key into the dictionary to store the corresponding datum. This means that you can specify the same key multiple times in the key/datum list, and the final dictionary’s value for that key will be the last one given.\n",
    "\n",
    "A double asterisk `**` denotes *dictionary unpacking*. Its operand must be a [mapping](https://docs.python.org/3/glossary.html#term-mapping). Each mapping item is added to the new dictionary. Later values replace values already set by earlier key/datum pairs and earlier dictionary unpackings.\n",
    "\n",
    "*New in version 3.5:* Unpacking into dictionary displays, originally proposed by [**PEP 448**](https://www.python.org/dev/peps/pep-0448).\n",
    "\n",
    "A dict comprehension, in contrast to list and set comprehensions, needs two expressions separated with a colon followed by the usual “for” and “if” clauses. When the comprehension is run, the resulting key and value elements are inserted in the new dictionary in the order they are produced.\n",
    "\n",
    "Restrictions on the types of the key values are listed earlier in section [The standard type hierarchy](https://docs.python.org/3/reference/datamodel.html#types). (To summarize, the key type should be [hashable](https://docs.python.org/3/glossary.html#term-hashable), which excludes all mutable objects.) Clashes between duplicate keys are not detected; the last datum (textually rightmost in the display) stored for a given key value prevails.\n",
    "\n",
    "*Changed in version 3.8:* Prior to Python 3.8, in dict comprehensions, the evaluation order of key and value was not well-defined. In CPython, the value was evaluated before the key. Starting with 3.8, the key is evaluated before the value, as proposed by [**PEP 572**](https://www.python.org/dev/peps/pep-0572).\n",
    "\n",
    "> 一个字典显示会产生一个新的字典对象。\n",
    ">\n",
    "> 如果给了一个逗号分隔的 key/datum 对序列，它们会从左到右被运算求值，以定义字典的条目：每个 key 对象被用作字典中的一个键，以存储相应的数据。这意味着你可以在 key/datum 列表中多次指定同一个 key，最后字典中这个 key 的值将是最后给出的那个。\n",
    ">\n",
    "> 一个双星号 `**` 表示*字典解包*。它的操作数必须是一个 [mapping](https://docs.python.org/3/glossary.html#term-mapping)。每个映射项都被添加到新的字典中。后面的值会替换已经被前面的 key/datum 对和前面的字典解包所设置的值。\n",
    ">\n",
    "> *3.5版的新内容：*解包成字典显示，最初由[**PEP 448**](https://www.python.org/dev/peps/pep-0448)提出。\n",
    ">\n",
    "> 一个 dict 解析式，与 list 和 set 解析式相反，需要两个用冒号隔开的表达式，后面是通常的 \"for\" 和 \"if\" 子句。当解析式被运行时，产生的 key 和 value 元素按照产生的顺序插入新的 dictionary 中。\n",
    ">\n",
    "> 对键值类型的限制在前面[标准类型层次结构](https://docs.python.org/3/reference/datamodel.html#types)一节中列出。(概括地说，键类型应该是 [hashable](https://docs.python.org/3/glossary.html#term-hashable)，它排除了所有可变的对象。) 重复的键之间的冲突不会被检测到；为一个给定的键值存储的最后一个数据（在文本中最右边）为准。\n",
    ">\n",
    "> *在3.8版本中改变了：* 在Python 3.8之前，在dict解析式中，键和值的运算求值顺序没有被很好地定义。在CPython中，值在键之前被运算求值。从3.8开始，键的计算在值之前，这是 [**PEP 572**](https://www.python.org/dev/peps/pep-0572) 提出的。"
   ]
  },
  {
   "cell_type": "code",
   "execution_count": 14,
   "id": "ad1cf808-2d14-4fe5-9e33-e27f63841fc6",
   "metadata": {},
   "outputs": [
    {
     "data": {
      "text/plain": [
       "{'string': 6, 'integer': 7, 'float': 5, 'complex': 7}"
      ]
     },
     "execution_count": 14,
     "metadata": {},
     "output_type": "execute_result"
    },
    {
     "data": {
      "text/plain": [
       "{'s': 6, 't': 6, 'r': 6, 'i': 6, 'n': 6, 'g': 6}"
      ]
     },
     "execution_count": 14,
     "metadata": {},
     "output_type": "execute_result"
    }
   ],
   "source": [
    "d = {\"string\": 6, \"integer\": 7, \"float\": 5, \"complex\": 7}\n",
    "d\n",
    "\n",
    "D = {x : y for x in \"string\" for y in range(7)}\n",
    "D"
   ]
  },
  {
   "cell_type": "markdown",
   "id": "19132d30-6188-4cce-8418-72e0224782cd",
   "metadata": {},
   "source": [
    "### 6.2.8. Generator expressions"
   ]
  },
  {
   "cell_type": "markdown",
   "id": "ae542284-4ea4-419a-bbbd-6647528b177d",
   "metadata": {},
   "source": [
    "A generator expression is a compact generator notation in parentheses:\n",
    "\n",
    "> 生成器表达式是括号内的紧凑生成器符号："
   ]
  },
  {
   "cell_type": "raw",
   "id": "502531ab-db85-44c4-8625-e3e8e1723a56",
   "metadata": {},
   "source": [
    "generator_expression ::=  \"(\" expression comp_for \")\""
   ]
  },
  {
   "cell_type": "markdown",
   "id": "c10b78c9-d643-4b91-a2ec-a210c6ba8707",
   "metadata": {},
   "source": [
    "A generator expression yields a new generator object. Its syntax is the same as for comprehensions, except that it is enclosed in parentheses instead of brackets or curly braces.\n",
    "\n",
    "Variables used in the generator expression are evaluated lazily when the [`__next__()`](https://docs.python.org/3/reference/expressions.html#generator.__next__) method is called for the generator object (in the same fashion as normal generators). However, the iterable expression in the leftmost `for` clause is immediately evaluated, so that an error produced by it will be emitted at the point where the generator expression is defined, rather than at the point where the first value is retrieved. Subsequent `for` clauses and any filter condition in the leftmost `for` clause cannot be evaluated in the enclosing scope as they may depend on the values obtained from the leftmost iterable. For example: `(x*y for x in range(10) for y in range(x, x+10))`.\n",
    "\n",
    "The parentheses can be omitted on calls with only one argument. See section [Calls](https://docs.python.org/3/reference/expressions.html#calls) for details.\n",
    "\n",
    "To avoid interfering with the expected operation of the generator expression itself, `yield` and `yield from` expressions are prohibited in the implicitly defined generator.\n",
    "\n",
    "If a generator expression contains either `async for` clauses or [`await`](https://docs.python.org/3/reference/expressions.html#await) expressions it is called an *asynchronous generator expression*. An asynchronous generator expression returns a new asynchronous generator object, which is an asynchronous iterator (see [Asynchronous Iterators](https://docs.python.org/3/reference/datamodel.html#async-iterators)).\n",
    "\n",
    "*New in version 3.6:* Asynchronous generator expressions were introduced.\n",
    "\n",
    "*Changed in version 3.7:* Prior to Python 3.7, asynchronous generator expressions could only appear in [`async def`](https://docs.python.org/3/reference/compound_stmts.html#async-def) coroutines. Starting with 3.7, any function can use asynchronous generator expressions.\n",
    "\n",
    "*Changed in version 3.8:* `yield` and `yield from` prohibited in the implicitly nested scope.\n",
    "\n",
    "> 一个生成器表达式会产生一个新的生成器对象。除了用小括号代替大括号外，它的语法和解析式的语法是一样的。\n",
    ">\n",
    "> 当为生成器对象调用 [`__next__()`](https://docs.python.org/3/reference/expressions.html#generator.__next__) 方法时，生成器表达式中使用的变量会被惰性运算（与普通生成器的方式相同）。然而，最左边的 `for` 子句中的可迭代表达式会被立即运算求值，因此由它产生的错误会在定义生成器表达式的地方发出，而不是在检索第一个值的地方发出。后续的 `for` 子句和最左边的 `for` 子句中的任何过滤条件不能在闭合的作用域内被运算求值，因为它们可能依赖于从最左边的迭代器中获得的值。例如：`(x*y for x in range(10) for y in range(x, x+10))`。\n",
    ">\n",
    "> 在只有一个参数的调用中，括号可以省略。详见[Calls](https://docs.python.org/3/reference/expressions.html#calls)一节。\n",
    ">\n",
    "> 为了避免干扰生成器表达式本身的预期操作，隐式定义的生成器中禁止使用 `yield` 和 `yield from` 表达式。\n",
    ">\n",
    "> 如果一个生成器表达式包含 `async for` 子句或 [`await`](https://docs.python.org/3/reference/expressions.html#await) 表达式，则称为*异步生成器表达式*。一个异步生成器表达式会返回一个新的异步生成器对象，它是一个异步迭代器（见[异步迭代器](https://docs.python.org/3/reference/datamodel.html#async-iterators)）。\n",
    ">\n",
    "> *在3.6版本中新增：*引入了异步生成器表达式。\n",
    ">\n",
    "> *3.7版中的变化：* 在Python 3.7之前，异步生成器表达式只能出现在 [`async def`](https://docs.python.org/3/reference/compound_stmts.html#async-def) coroutines中。从3.7开始，任何函数都可以使用异步生成器表达式。\n",
    ">\n",
    "> *在3.8版本中改变了：* `yield` 和 `yield from` 禁止在隐式嵌套的范围内出现。"
   ]
  },
  {
   "cell_type": "code",
   "execution_count": 27,
   "id": "e654ca34-8e5c-491b-8efb-7953ded2b563",
   "metadata": {},
   "outputs": [
    {
     "data": {
      "text/plain": [
       "<generator object <genexpr> at 0x0000011E62565B60>"
      ]
     },
     "execution_count": 27,
     "metadata": {},
     "output_type": "execute_result"
    },
    {
     "data": {
      "text/plain": [
       "generator"
      ]
     },
     "execution_count": 27,
     "metadata": {},
     "output_type": "execute_result"
    },
    {
     "data": {
      "text/plain": [
       "0"
      ]
     },
     "execution_count": 27,
     "metadata": {},
     "output_type": "execute_result"
    },
    {
     "data": {
      "text/plain": [
       "0"
      ]
     },
     "execution_count": 27,
     "metadata": {},
     "output_type": "execute_result"
    },
    {
     "data": {
      "text/plain": [
       "0"
      ]
     },
     "execution_count": 27,
     "metadata": {},
     "output_type": "execute_result"
    },
    {
     "data": {
      "text/plain": [
       "0"
      ]
     },
     "execution_count": 27,
     "metadata": {},
     "output_type": "execute_result"
    },
    {
     "data": {
      "text/plain": [
       "0"
      ]
     },
     "execution_count": 27,
     "metadata": {},
     "output_type": "execute_result"
    }
   ],
   "source": [
    "e = (x * y for x in range(10) for y in range(x, x+10))\n",
    "e\n",
    "\n",
    "type(e)\n",
    "e.__next__()\n",
    "e.__next__()\n",
    "e.__next__()\n",
    "e.__next__()\n",
    "e.__next__()"
   ]
  },
  {
   "cell_type": "markdown",
   "id": "bf2e9643-4e32-4d90-a35b-295d80683319",
   "metadata": {},
   "source": [
    "### 6.2.9. Yield expressions"
   ]
  },
  {
   "cell_type": "raw",
   "id": "74b81ff3-717a-4868-8163-52e66f13d49b",
   "metadata": {},
   "source": [
    "yield_atom       ::=  \"(\" yield_expression \")\"\n",
    "yield_expression ::=  \"yield\" [expression_list | \"from\" expression]"
   ]
  },
  {
   "cell_type": "markdown",
   "id": "62c57dbc-df9f-4e01-9be2-79c2ec01dbaf",
   "metadata": {},
   "source": [
    "The yield expression is used when defining a [generator](https://docs.python.org/3/glossary.html#term-generator) function or an [asynchronous generator](https://docs.python.org/3/glossary.html#term-asynchronous-generator) function and thus can only be used in the body of a function definition. Using a yield expression in a function’s body causes that function to be a generator function, and using it in an [`async def`](https://docs.python.org/3/reference/compound_stmts.html#async-def) function’s body causes that coroutine function to be an asynchronous generator function. For example:\n",
    "\n",
    "> yield表达式是在定义[generator](https://docs.python.org/3/glossary.html#term-generator)函数或[asynchronous generator](https://docs.python.org/3/glossary.html#term-asynchronous-generator)函数时使用的，因此只能在函数定义的主体中使用。在一个函数的主体中使用yield表达式会使该函数成为一个生成器函数，而在一个[`async def`](https://docs.python.org/3/reference/compound_stmts.html#async-def)函数的主体中使用该表达式会使该cououtine函数成为一个异步生成器函数。比如说"
   ]
  },
  {
   "cell_type": "code",
   "execution_count": 28,
   "id": "4710a5b6-24f7-426f-a46f-1a389a19f19b",
   "metadata": {},
   "outputs": [],
   "source": [
    "# defines a generator function\n",
    "def gen(): \n",
    "    yield 123\n",
    "\n",
    "# define an asynchronous generator function    \n",
    "async def agen():\n",
    "    yield 123"
   ]
  },
  {
   "cell_type": "code",
   "execution_count": 30,
   "id": "3de6985d-d9d0-4efd-9734-32b2f6e907ec",
   "metadata": {},
   "outputs": [
    {
     "data": {
      "text/plain": [
       "<generator object gen at 0x0000011E61F69D20>"
      ]
     },
     "execution_count": 30,
     "metadata": {},
     "output_type": "execute_result"
    },
    {
     "data": {
      "text/plain": [
       "<async_generator object agen at 0x0000011E61F588C0>"
      ]
     },
     "execution_count": 30,
     "metadata": {},
     "output_type": "execute_result"
    }
   ],
   "source": [
    "gen()\n",
    "\n",
    "agen()"
   ]
  },
  {
   "cell_type": "markdown",
   "id": "2472fec9-01dd-4008-b9c5-bdbca1711904",
   "metadata": {},
   "source": [
    "Due to their side effects on the containing scope, `yield` expressions are not permitted as part of the implicitly defined scopes used to implement comprehensions and generator expressions.\n",
    "\n",
    "*Changed in version 3.8:* Yield expressions prohibited in the implicitly nested scopes used to implement comprehensions and generator expressions.\n",
    "\n",
    "> 由于它们对包含的作用域有副作用，`yield `表达式不允许作为隐式定义的作用域的一部分，用于实现解析式和生成器表达式。\n",
    ">\n",
    "> *在3.8版本中改变了：*在用于实现解析式和生成器表达式的隐式嵌套作用域中禁止使用Yield表达式。"
   ]
  },
  {
   "cell_type": "markdown",
   "id": "1b69b165-793f-4580-aff4-223e05005875",
   "metadata": {},
   "source": [
    "Generator functions are described below, while asynchronous generator functions are described separately in section [Asynchronous generator functions](https://docs.python.org/3/reference/expressions.html#asynchronous-generator-functions).\n",
    "\n",
    "When a generator function is called, it returns an iterator known as a generator. That generator then controls the execution of the generator function. The execution starts when one of the generator’s methods is called. At that time, the execution proceeds to the first yield expression, where it is suspended again, returning the value of [`expression_list`](https://docs.python.org/3/reference/expressions.html#grammar-token-python-grammar-expression_list) to the generator’s caller. By suspended, we mean that all local state is retained, including the current bindings of local variables, the instruction pointer, the internal evaluation stack, and the state of any exception handling. When the execution is resumed by calling one of the generator’s methods, the function can proceed exactly as if the yield expression were just another external call. The value of the yield expression after resuming depends on the method which resumed the execution. If [`__next__()`](https://docs.python.org/3/reference/expressions.html#generator.__next__) is used (typically via either a [`for`](https://docs.python.org/3/reference/compound_stmts.html#for) or the [`next()`](https://docs.python.org/3/library/functions.html#next) builtin) then the result is [`None`](https://docs.python.org/3/library/constants.html#None). Otherwise, if [`send()`](https://docs.python.org/3/reference/expressions.html#generator.send) is used, then the result will be the value passed in to that method.\n",
    "\n",
    "> 下面描述了生成器函数，而异步生成器函数将在[异步生成器函数](https://docs.python.org/3/reference/expressions.html#asynchronous-generator-functions)一节中单独描述。\n",
    ">\n",
    "> 当一个生成器函数被调用时，它返回一个被称为生成器的迭代器。然后该生成器控制生成器函数的执行。当生成器的一个方法被调用时，执行开始。那时，执行会进行到第一个yield表达式，在那里再次暂停，将[`expression_list`](https://docs.python.org/3/reference/expressions.html#grammar-token-python-grammar-expression_list)的值返回给生成器的调用者。我们所说的暂停是指保留所有的本地状态，包括局部变量的当前绑定、指令指针、内部运算求值堆栈和任何异常处理的状态。当通过调用生成器的一个方法来恢复执行时，该函数可以完全像yield表达式只是另一个外部调用那样进行。恢复执行后的yield表达式的值取决于恢复执行的方法。如果使用了[`__next__()`](https://docs.python.org/3/reference/expressions.html#generator.__next__)（通常是通过[`for`](https://docs.python.org/3/reference/compound_stmts.html#for)或[`next()`](https://docs.python.org/3/library/functions.html#next)内置函数），那么结果是[`None`](https://docs.python.org/3/library/constants.html#None)。否则，如果使用了[`send()`](https://docs.python.org/3/reference/expressions.html#generator.send)，那么结果将是传入该方法的值。"
   ]
  },
  {
   "cell_type": "markdown",
   "id": "3e9a8881-88e0-4e24-b5a8-509b96ec07c1",
   "metadata": {},
   "source": [
    "All of this makes generator functions quite similar to coroutines; they yield multiple times, they have more than one entry point and their execution can be suspended. The only difference is that a generator function cannot control where the execution should continue after it yields; the control is always transferred to the generator’s caller.\n",
    "\n",
    "Yield expressions are allowed anywhere in a [`try`](https://docs.python.org/3/reference/compound_stmts.html#try) construct. If the generator is not resumed before it is finalized (by reaching a zero reference count or by being garbage collected), the generator-iterator’s [`close()`](https://docs.python.org/3/reference/expressions.html#generator.close) method will be called, allowing any pending [`finally`](https://docs.python.org/3/reference/compound_stmts.html#finally) clauses to execute.\n",
    "\n",
    "When `yield from <expr>` is used, the supplied expression must be an iterable. The values produced by iterating that iterable are passed directly to the caller of the current generator’s methods. Any values passed in with [`send()`](https://docs.python.org/3/reference/expressions.html#generator.send) and any exceptions passed in with [`throw()`](https://docs.python.org/3/reference/expressions.html#generator.throw) are passed to the underlying iterator if it has the appropriate methods. If this is not the case, then [`send()`](https://docs.python.org/3/reference/expressions.html#generator.send) will raise [`AttributeError`](https://docs.python.org/3/library/exceptions.html#AttributeError) or [`TypeError`](https://docs.python.org/3/library/exceptions.html#TypeError), while [`throw()`](https://docs.python.org/3/reference/expressions.html#generator.throw) will just raise the passed in exception immediately.\n",
    "\n",
    "> 所有这些都使生成器函数与轮回线非常相似；它们可以多次产生，有一个以上的入口点，它们的执行可以暂停。唯一的区别是，生成器函数不能控制在它产生后执行的位置；控制权总是转移到生成器的调用者。\n",
    ">\n",
    "> 在[`try`](https://docs.python.org/3/reference/compound_stmts.html#try)结构中的任何地方都可以使用Yield表达式。如果生成器在终结前（达到零引用数或被垃圾回收）没有被恢复，生成器-迭代器的[`close()`](https://docs.python.org/3/reference/expressions.html#generator.close)方法将被调用，允许任何未决的[`finally`](https://docs.python.org/3/reference/compound_stmts.html#finally)子句执行。\n",
    ">\n",
    "> 当使用`yield from <expr>`时，提供的表达式必须是一个可迭代的。迭代产生的值会直接传递给当前生成器的方法的调用者。任何用[`send()`](https://docs.python.org/3/reference/expressions.html#generator.send)传递的值和任何用[`throw()`](https://docs.python.org/3/reference/expressions.html#generator.throw)传递的异常都会传递给底层迭代器，如果它有相应的方法。如果不是这样，那么[`send()`](https://docs.python.org/3/reference/expressions.html#generator.send)将引发[`AttributeError`](https://docs.python.org/3/library/exceptions.html#AttributeError)或[`TypeError`](https://docs.python.org/3/library/exceptions.html#TypeError)，而[`throw()`](https://docs.python.org/3/reference/expressions.html#generator.throw)将立即引发传入的异常。"
   ]
  },
  {
   "cell_type": "markdown",
   "id": "1368d460-60c8-46f4-85e3-0e87ab7b22a1",
   "metadata": {},
   "source": [
    "When the underlying iterator is complete, the `value` attribute of the raised [`StopIteration`](https://docs.python.org/3/library/exceptions.html#StopIteration) instance becomes the value of the yield expression. It can be either set explicitly when raising [`StopIteration`](https://docs.python.org/3/library/exceptions.html#StopIteration), or automatically when the subiterator is a generator (by returning a value from the subgenerator).\n",
    "\n",
    "> *Changed in version 3.3:* Added `yield from <expr>` to delegate control flow to a subiterator.\n",
    "\n",
    "The parentheses may be omitted when the yield expression is the sole expression on the right hand side of an assignment statement.\n",
    "\n",
    "> 当底层迭代器完成后，被引发的[`StopIteration`](https://docs.python.org/3/library/exceptions.html#StopIteration)实例的 `value` 属性就变成了yield表达式的值。它可以在引发[`StopIteration`](https://docs.python.org/3/library/exceptions.html#StopIteration)时明确设置，或者在子迭代器是生成器时自动设置（通过从子生成器返回一个值）。\n",
    ">\n",
    "> > *在3.3版本中改变了：* 增加了`yield from <expr>`来委托控制流给子迭代器。\n",
    ">\n",
    "> 当yield表达式是赋值语句右侧的唯一表达式时，可以省略括号。"
   ]
  },
  {
   "cell_type": "markdown",
   "id": "f9380cb8-afac-4cb7-b2eb-e520ed105a0e",
   "metadata": {},
   "source": [
    "**See also:**\n",
    "\n",
    "- [**PEP 255**](https://www.python.org/dev/peps/pep-0255) - Simple Generators\n",
    "\n",
    "  The proposal for adding generators and the [`yield`](https://docs.python.org/3/reference/simple_stmts.html#yield) statement to Python.\n",
    "\n",
    "- [**PEP 342**](https://www.python.org/dev/peps/pep-0342) - Coroutines via Enhanced Generators\n",
    "\n",
    "  The proposal to enhance the API and syntax of generators, making them usable as simple coroutines.\n",
    "\n",
    "- [**PEP 380**](https://www.python.org/dev/peps/pep-0380) - Syntax for Delegating to a Subgenerator\n",
    "\n",
    "  The proposal to introduce the `yield_from` syntax, making delegation to subgenerators easy.\n",
    "\n",
    "- [**PEP 525**](https://www.python.org/dev/peps/pep-0525) - Asynchronous Generators\n",
    "\n",
    "  The proposal that expanded on [**PEP 492**](https://www.python.org/dev/peps/pep-0492) by adding generator capabilities to coroutine functions."
   ]
  },
  {
   "cell_type": "markdown",
   "id": "500e3641-a574-452e-900a-8923689de9e5",
   "metadata": {},
   "source": [
    "#### 6.2.9.1. Generator-iterator methods"
   ]
  },
  {
   "cell_type": "markdown",
   "id": "111bb86f-fa72-4866-845e-f54d5e7de4e8",
   "metadata": {},
   "source": [
    "This subsection describes the methods of a generator iterator. They can be used to control the execution of a generator function.\n",
    "\n",
    "Note that calling any of the generator methods below when the generator is already executing raises a [`ValueError`](https://docs.python.org/3/library/exceptions.html#ValueError) exception.\n",
    "\n",
    "> 本小节介绍了生成器迭代器的方法。它们可以用来控制一个生成器函数的执行。\n",
    ">\n",
    "> 请注意，当生成器已经在执行时，调用下面的任何生成器方法都会引发[`ValueError`](https://docs.python.org/3/library/exceptions.html#ValueError) 异常。"
   ]
  },
  {
   "cell_type": "markdown",
   "id": "3c82bf27-a211-4cd1-82e9-39fea43dc91c",
   "metadata": {},
   "source": [
    "`generator.`\\_\\_next__()\n",
    "\n",
    "Starts the execution of a generator function or resumes it at the last executed yield expression. When a generator function is resumed with a [`__next__()`](https://docs.python.org/3/reference/expressions.html#generator.__next__) method, the current yield expression always evaluates to [`None`](https://docs.python.org/3/library/constants.html#None). The execution then continues to the next yield expression, where the generator is suspended again, and the value of the [`expression_list`](https://docs.python.org/3/reference/expressions.html#grammar-token-python-grammar-expression_list) is returned to [`__next__()`](https://docs.python.org/3/reference/expressions.html#generator.__next__)’s caller. If the generator exits without yielding another value, a [`StopIteration`](https://docs.python.org/3/library/exceptions.html#StopIteration) exception is raised.\n",
    "\n",
    "This method is normally called implicitly, e.g. by a [`for`](https://docs.python.org/3/reference/compound_stmts.html#for) loop, or by the built-in [`next()`](https://docs.python.org/3/library/functions.html#next) function.\n",
    "\n",
    "> `generator.`\\_\\_next__()\n",
    ">\n",
    "> 启动一个生成器函数的执行，或者在最后执行的产出表达式处恢复执行。当一个生成器函数用[`__next__()`](https://docs.python.org/3/reference/expressions.html#generator.__next__)方法恢复时，当前的产出表达式总是被运算求值为 [`None`](https://docs.python.org/3/library/constants.html#None)。然后继续执行到下一个产出表达式，在这里生成器被再次中止，[`expression_list`](https://docs.python.org/3/reference/expressions.html#grammar-token-python-grammar-expression_list) 的值被返回给 [`__next__()`](https://docs.python.org/3/reference/expressions.html#generator.__next__) 的调用者。如果生成器在没有产生其他值的情况下退出，就会产生一个 [`StopIteration`](https://docs.python.org/3/library/exceptions.html#StopIteration) 异常。\n",
    ">\n",
    "> 这个方法通常是隐式调用的，例如通过[`for`](https://docs.python.org/3/reference/compound_stmts.html#for)循环，或者通过内置的[`next()`](https://docs.python.org/3/library/functions.html#next)函数。"
   ]
  },
  {
   "cell_type": "markdown",
   "id": "055914c1-d5de-4677-9339-08750c4b1890",
   "metadata": {},
   "source": [
    "`generator.`send(*value*)\n",
    "\n",
    "Resumes the execution and “sends” a value into the generator function. The *value* argument becomes the result of the current yield expression. The [`send()`](https://docs.python.org/3/reference/expressions.html#generator.send) method returns the next value yielded by the generator, or raises [`StopIteration`](https://docs.python.org/3/library/exceptions.html#StopIteration) if the generator exits without yielding another value. When [`send()`](https://docs.python.org/3/reference/expressions.html#generator.send) is called to start the generator, it must be called with [`None`](https://docs.python.org/3/library/constants.html#None) as the argument, because there is no yield expression that could receive the value.\n",
    "\n",
    "> `generator.`send(*value*)\n",
    ">\n",
    "> 恢复执行并向生成器函数 \"sends\"一个值。参数*value*成为当前产出表达式的结果。[`send()`](https://docs.python.org/3/reference/expressions.html#generator.send)方法返回生成器产生的下一个值，如果生成器没有产生其他值就退出，则引发 [`StopIteration`](https://docs.python.org/3/library/exceptions.html#StopIteration)。当调用[`send()`](https://docs.python.org/3/reference/expressions.html#generator.send)来启动生成器时，必须以 [`None`](https://docs.python.org/3/library/constants.html#None) 作为参数，因为没有可以接收该值的产出表达式。"
   ]
  },
  {
   "cell_type": "markdown",
   "id": "91b0aa0d-8745-49e1-94ee-4591a7f7e600",
   "metadata": {},
   "source": [
    "`generator.`throw(*value*)\n",
    "\n",
    "`generator.`throw(*type*[, *value*[, *traceback*]])\n",
    "\n",
    "Raises an exception at the point where the generator was paused, and returns the next value yielded by the generator function. If the generator exits without yielding another value, a [`StopIteration`](https://docs.python.org/3/library/exceptions.html#StopIteration) exception is raised. If the generator function does not catch the passed-in exception, or raises a different exception, then that exception propagates to the caller.\n",
    "\n",
    "In typical use, this is called with a single exception instance similar to the way the [`raise`](https://docs.python.org/3/reference/simple_stmts.html#raise) keyword is used.\n",
    "\n",
    "For backwards compatability, however, the second signature is supported, following a convention from older versions of Python. The *type* argument should be an exception class, and *value* should be an exception instance. If the *value* is not provided, the *type* constructor is called to get an instance. If *traceback* is provided, it is set on the exception, otherwise any existing `__traceback__` attribute stored in *value* may be cleared.\n",
    "\n",
    "> `generator.`throw(*value*)\n",
    ">\n",
    "> `generator.`throw(*type*[, *value*[, *traceback*]])\n",
    ">\n",
    "> 在生成器暂停的地方引发一个异常，并返回生成器函数产生的下一个值。如果生成器在没有产生另一个值的情况下退出，会引发 [`StopIteration`](https://docs.python.org/3/library/exceptions.html#StopIteration) 异常。如果生成器函数没有捕获传入的异常，或者引发一个不同的异常，那么这个异常就会传播给调用者。\n",
    ">\n",
    "> 在典型的使用中，这与 [`raise`](https://docs.python.org/3/reference/simple_stmts.html#raise) 关键字的使用方式类似，都是用单个异常实例来调用。\n",
    ">\n",
    "> 然而，为了向后兼容，我们支持第二个签名（特征？），遵循旧版本 Python 的惯例。参数 *type* 应该是一个异常类，而 *value* 应该是一个异常实例。如果没有提供*value*，就会调用*type*构造函数来获得一个实例。如果*traceback*被提供，它将被设置在异常上，否则任何存储在*value*中的现有的 `__traceback__` 属性可能被清除。"
   ]
  },
  {
   "cell_type": "markdown",
   "id": "2c8fb98f-64b4-4f9e-8d71-c48b1463dd3d",
   "metadata": {},
   "source": [
    "`generator.`close()\n",
    "\n",
    "Raises a [`GeneratorExit`](https://docs.python.org/3/library/exceptions.html#GeneratorExit) at the point where the generator function was paused. If the generator function then exits gracefully, is already closed, or raises [`GeneratorExit`](https://docs.python.org/3/library/exceptions.html#GeneratorExit) (by not catching the exception), close returns to its caller. If the generator yields a value, a [`RuntimeError`](https://docs.python.org/3/library/exceptions.html#RuntimeError) is raised. If the generator raises any other exception, it is propagated to the caller. [`close()`](https://docs.python.org/3/reference/expressions.html#generator.close) does nothing if the generator has already exited due to an exception or normal exit.\n",
    "\n",
    "> `generator.`close()\n",
    ">\n",
    "> 在生成器函数暂停的地方引发一个 [`GeneratorExit`](https://docs.python.org/3/library/exceptions.html#GeneratorExit)。如果生成器函数随后优雅地退出、已经关闭或引发[`GeneratorExit`](https://docs.python.org/3/library/exceptions.html#GeneratorExit)（没有捕捉到异常），close将返回给它的调用者。如果生成器产生了一个值，就会引发一个[`RuntimeError`](https://docs.python.org/3/library/exceptions.html#RuntimeError)。如果生成器引发任何其他异常，它将被传播给调用者。如果生成器已经由于异常或正常退出而退出，[`close()`](https://docs.python.org/3/reference/expressions.html#generator.close)不做任何事情。"
   ]
  },
  {
   "cell_type": "markdown",
   "id": "6da66023-f8f5-4926-8d55-c36de39be52b",
   "metadata": {},
   "source": [
    "#### 6.2.9.2. Examples"
   ]
  },
  {
   "cell_type": "markdown",
   "id": "0e16d7e2-eb96-4ad1-b0bf-6a3fad80f6a7",
   "metadata": {},
   "source": [
    "Here is a simple example that demonstrates the behavior of generators and generator functions:\n",
    "\n",
    "> 这里有一个简单的例子，演示了生成器和生成器函数的行为："
   ]
  },
  {
   "cell_type": "code",
   "execution_count": 6,
   "id": "2ae67155-89b1-4d1e-9d79-1464832d86b2",
   "metadata": {},
   "outputs": [],
   "source": [
    "def echo(value=None):\n",
    "    print(\"Execution starts when 'next()' is called for the first time.\")\n",
    "    try:\n",
    "        while True:\n",
    "            try:\n",
    "                value = (yield value)\n",
    "            except Exception as e:\n",
    "                vaule = e\n",
    "    finally:\n",
    "        print(\"Don't forget to clean up when 'close()' is called.\")"
   ]
  },
  {
   "cell_type": "code",
   "execution_count": 7,
   "id": "c849829b-ab13-4c5a-ab98-04a77092a842",
   "metadata": {},
   "outputs": [
    {
     "name": "stdout",
     "output_type": "stream",
     "text": [
      "Don't forget to clean up when 'close()' is called.\n",
      "Execution starts when 'next()' is called for the first time.\n",
      "1\n"
     ]
    }
   ],
   "source": [
    "generator = echo(1)\n",
    "print(next(generator))"
   ]
  },
  {
   "cell_type": "code",
   "execution_count": 8,
   "id": "7d28eb50-35c4-47a8-b764-c8e172b9a483",
   "metadata": {},
   "outputs": [
    {
     "name": "stdout",
     "output_type": "stream",
     "text": [
      "None\n"
     ]
    }
   ],
   "source": [
    "print(next(generator))"
   ]
  },
  {
   "cell_type": "code",
   "execution_count": 9,
   "id": "a94528d2-ecd5-498f-bb9f-a5459a3ef0c1",
   "metadata": {},
   "outputs": [
    {
     "name": "stdout",
     "output_type": "stream",
     "text": [
      "None\n"
     ]
    }
   ],
   "source": [
    "print(next(generator))"
   ]
  },
  {
   "cell_type": "code",
   "execution_count": 10,
   "id": "a3ab6ad4-1a2e-4fdc-9905-691760392c55",
   "metadata": {},
   "outputs": [],
   "source": [
    "generator.throw(TypeError, \"spam\")"
   ]
  },
  {
   "cell_type": "code",
   "execution_count": 11,
   "id": "3d8f0f31-ffe9-4066-a640-2a89e358b423",
   "metadata": {},
   "outputs": [
    {
     "name": "stdout",
     "output_type": "stream",
     "text": [
      "Don't forget to clean up when 'close()' is called.\n"
     ]
    }
   ],
   "source": [
    "generator.close()"
   ]
  },
  {
   "cell_type": "markdown",
   "id": "7b2a3cfb-d682-4e31-af03-6af7cf6697f5",
   "metadata": {},
   "source": [
    "For examples using `yield from`, see [PEP 380: Syntax for Delegating to a Subgenerator](https://docs.python.org/3/whatsnew/3.3.html#pep-380) in “What’s New in Python.”\n",
    "\n",
    "> 关于使用 `yield from` 的例子，见 \"Python中的新内容 \"中的[PEP 380：委托给子生成器的语法](https://docs.python.org/3/whatsnew/3.3.html#pep-380)。"
   ]
  },
  {
   "cell_type": "markdown",
   "id": "0ace4cfe-74fe-4f31-94bb-4ceafeb0f943",
   "metadata": {},
   "source": [
    "#### 6.2.9.3. Asynchronous generator functions"
   ]
  },
  {
   "cell_type": "markdown",
   "id": "95afa3e6-6c8a-4a90-bf92-8e6889341a8a",
   "metadata": {},
   "source": [
    "The presence of a yield expression in a function or method defined using [`async def`](https://docs.python.org/3/reference/compound_stmts.html#async-def) further defines the function as an [asynchronous generator](https://docs.python.org/3/glossary.html#term-asynchronous-generator) function.\n",
    "\n",
    "When an asynchronous generator function is called, it returns an asynchronous iterator known as an asynchronous generator object. That object then controls the execution of the generator function. An asynchronous generator object is typically used in an [`async for`](https://docs.python.org/3/reference/compound_stmts.html#async-for) statement in a coroutine function analogously to how a generator object would be used in a [`for`](https://docs.python.org/3/reference/compound_stmts.html#for) statement.\n",
    "\n",
    "> 在使用 [`async def`](https://docs.python.org/3/reference/compound_stmts.html#async-def) 定义的函数或方法中存在一个yield表达式，进一步定义了该函数为[异步生成器](https://docs.python.org/3/glossary.html#term-asynchronous-generator)函数。\n",
    ">\n",
    "> 当一个异步生成器函数被调用时，它返回一个异步迭代器，称为异步生成器对象。然后该对象控制生成器函数的执行。一个异步生成器对象通常被用在coroutine函数的 [`async for`](https://docs.python.org/3/reference/compound_stmts.html#async-for) 语句中，类似于生成器对象被用在[`for`](https://docs.python.org/3/reference/compound_stmts.html#for)语句中的方式。"
   ]
  },
  {
   "cell_type": "markdown",
   "id": "fce3c9e6-a03a-4288-a98a-843bfe76a36e",
   "metadata": {},
   "source": [
    "Calling one of the asynchronous generator’s methods returns an [awaitable](https://docs.python.org/3/glossary.html#term-awaitable) object, and the execution starts when this object is awaited on. At that time, the execution proceeds to the first yield expression, where it is suspended again, returning the value of [`expression_list`](https://docs.python.org/3/reference/expressions.html#grammar-token-python-grammar-expression_list) to the awaiting coroutine. As with a generator, suspension means that all local state is retained, including the current bindings of local variables, the instruction pointer, the internal evaluation stack, and the state of any exception handling. When the execution is resumed by awaiting on the next object returned by the asynchronous generator’s methods, the function can proceed exactly as if the yield expression were just another external call. The value of the yield expression after resuming depends on the method which resumed the execution. If [`__anext__()`](https://docs.python.org/3/reference/expressions.html#agen.__anext__) is used then the result is [`None`](https://docs.python.org/3/library/constants.html#None). Otherwise, if [`asend()`](https://docs.python.org/3/reference/expressions.html#agen.asend) is used, then the result will be the value passed in to that method.\n",
    "\n",
    "> 调用异步生成器的一个方法会返回一个 [awarditable](https://docs.python.org/3/glossary.html#term-awaitable) 对象，当这个对象被等待时，执行开始。那时，执行会进行到第一个产出表达式，在那里再次暂停，将[`expression_list`](https://docs.python.org/3/reference/expressions.html#grammar-token-python-grammar-expression_list)的值返回给等待的coroutine。与生成器一样，暂停意味着所有本地状态被保留，包括本地变量的当前绑定、指令指针、内部运算求值堆栈和任何异常处理的状态。当通过等待异步生成器方法返回的下一个对象来恢复执行时，函数可以完全像产出表达式只是另一个外部调用那样进行。恢复执行后的产出表达式的值取决于恢复执行的方法。如果使用了 [`__anext__()`](https://docs.python.org/3/reference/expressions.html#agen.__anext__)，那么结果就是 [`None`](https://docs.python.org/3/library/constants.html#None)。否则，如果使用了[`asend()`](https://docs.python.org/3/reference/expressions.html#agen.asend)，那么结果将是传入该方法的值。"
   ]
  },
  {
   "cell_type": "markdown",
   "id": "739426ef-1fb9-4301-9b20-a49911df910a",
   "metadata": {},
   "source": [
    "If an asynchronous generator happens to exit early by [`break`](https://docs.python.org/3/reference/simple_stmts.html#break), the caller task being cancelled, or other exceptions, the generator’s async cleanup code will run and possibly raise exceptions or access context variables in an unexpected context–perhaps after the lifetime of tasks it depends, or during the event loop shutdown when the async-generator garbage collection hook is called. To prevent this, the caller must explicitly close the async generator by calling [`aclose()`](https://docs.python.org/3/reference/expressions.html#agen.aclose) method to finalize the generator and ultimately detach it from the event loop.\n",
    "\n",
    "> 如果一个异步生成器碰巧因 [`break`](https://docs.python.org/3/reference/simple_stmts.html#break)、调用者任务被取消或其他异常而提前退出，生成器的异步清理代码将运行并可能引发异常或在意外情况下访问上下文变量--也许是在它所依赖的任务的生命周期之后，或在调用异步生成器垃圾收集钩时的事件循环关闭过程。为了防止这种情况，调用者必须通过调用 [`aclose()`](https://docs.python.org/3/reference/expressions.html#agen.aclose) 方法明确地关闭异步生成器，以最终确定生成器并最终将其从事件循环中分离出来。"
   ]
  },
  {
   "cell_type": "markdown",
   "id": "587137c3-f982-4894-9890-712866a27597",
   "metadata": {},
   "source": [
    "In an asynchronous generator function, yield expressions are allowed anywhere in a [`try`](https://docs.python.org/3/reference/compound_stmts.html#try) construct. However, if an asynchronous generator is not resumed before it is finalized (by reaching a zero reference count or by being garbage collected), then a yield expression within a `try` construct could result in a failure to execute pending [`finally`](https://docs.python.org/3/reference/compound_stmts.html#finally) clauses. In this case, it is the responsibility of the event loop or scheduler running the asynchronous generator to call the asynchronous generator-iterator’s [`aclose()`](https://docs.python.org/3/reference/expressions.html#agen.aclose) method and run the resulting coroutine object, thus allowing any pending `finally` clauses to execute.\n",
    "\n",
    "> 在异步生成器函数中，允许在 [`try`](https://docs.python.org/3/reference/compound_stmts.html#try) 结构中的任何地方使用产出表达式。但是，如果一个异步生成器在最终完成之前没有被恢复（通过达到零引用计数或被垃圾回收），那么在 `try` 结构中的 `yield` 表达式可能会导致未能执行待定的 [`finally`](https://docs.python.org/3/reference/compound_stmts.html#finally) 子句。在这种情况下，运行异步生成器的事件循环或调度器有责任调用异步生成器-迭代器的 [`aclose()`](https://docs.python.org/3/reference/expressions.html#agen.aclose) 方法，并运行产生的coroutine对象，从而允许执行任何待定的 `finally` 条款。"
   ]
  },
  {
   "cell_type": "markdown",
   "id": "20a4a506-5f0c-4fdc-a576-3ed6df2ac13a",
   "metadata": {},
   "source": [
    "To take care of finalization upon event loop termination, an event loop should define a *finalizer* function which takes an asynchronous generator-iterator and presumably calls [`aclose()`](https://docs.python.org/3/reference/expressions.html#agen.aclose) and executes the coroutine. This *finalizer* may be registered by calling [`sys.set_asyncgen_hooks()`](https://docs.python.org/3/library/sys.html#sys.set_asyncgen_hooks). When first iterated over, an asynchronous generator-iterator will store the registered *finalizer* to be called upon finalization. For a reference example of a *finalizer* method see the implementation of `asyncio.Loop.shutdown_asyncgens` in [Lib/asyncio/base_events.py](https://github.com/python/cpython/tree/3.10/Lib/asyncio/base_events.py).\n",
    "\n",
    "The expression `yield from <expr>` is a syntax error when used in an asynchronous generator function.\n",
    "\n",
    "> 为了在事件循环终止时进行最终处理，事件循环应该定义一个*finalizer*函数，该函数接收一个异步生成器-迭代器，并假定调用 [`aclose()`](https://docs.python.org/3/reference/expressions.html#agen.aclose) 并执行该循环程序。这个*终结者*可以通过调用 [`sys.set_asyncgen_hooks()`](https://docs.python.org/3/library/sys.html#sys.set_asyncgen_hooks) 来注册。当第一次迭代时，异步生成器-迭代器将存储注册的*finalizer*，并在最终完成时调用。关于*finalizer*方法的参考例子，见 [Lib/asyncio/base_events.py](https://github.com/python/cpython/tree/3.10/Lib/asyncio/base_events.py) 中 `asyncio.Loop.shutdown_asyncgens` 的实现。\n",
    ">\n",
    "> 表达式 `yield from <expr>` 在异步发生器函数中使用时是一个语法错误。"
   ]
  },
  {
   "cell_type": "markdown",
   "id": "9a3713a8-bba7-47e7-bc19-bef44c950fce",
   "metadata": {},
   "source": [
    "#### 6.2.9.4. Asynchronous generator-iterator methods"
   ]
  },
  {
   "cell_type": "markdown",
   "id": "38da56e5-6e5a-4554-bfa7-ad535a6b042d",
   "metadata": {},
   "source": [
    "This subsection describes the methods of an asynchronous generator iterator, which are used to control the execution of a generator function.\n",
    "\n",
    "> 本小节介绍了异步生成器迭代器的方法，这些方法用于控制生成器函数的执行。"
   ]
  },
  {
   "cell_type": "markdown",
   "id": "e98d6d61-6bf2-4ed9-937f-4a0d36d4075a",
   "metadata": {},
   "source": [
    "- *coroutine* `agen.`\\__anext__()\n",
    "\n",
    "  Returns an awaitable which when run starts to execute the asynchronous generator or resumes it at the last executed yield expression. When an asynchronous generator function is resumed with an [`__anext__()`](https://docs.python.org/3/reference/expressions.html#agen.__anext__) method, the current yield expression always evaluates to [`None`](https://docs.python.org/3/library/constants.html#None) in the returned awaitable, which when run will continue to the next yield expression. The value of the [`expression_list`](https://docs.python.org/3/reference/expressions.html#grammar-token-python-grammar-expression_list) of the yield expression is the value of the [`StopIteration`](https://docs.python.org/3/library/exceptions.html#StopIteration) exception raised by the completing coroutine. If the asynchronous generator exits without yielding another value, the awaitable instead raises a [`StopAsyncIteration`](https://docs.python.org/3/library/exceptions.html#StopAsyncIteration) exception, signalling that the asynchronous iteration has completed.\n",
    "\n",
    "  This method is normally called implicitly by a [`async for`](https://docs.python.org/3/reference/compound_stmts.html#async-for) loop.\n",
    "\n",
    "- *coroutine* `agen.`asend(*value*)\n",
    "\n",
    "  Returns an awaitable which when run resumes the execution of the asynchronous generator. As with the [`send()`](https://docs.python.org/3/reference/expressions.html#generator.send) method for a generator, this “sends” a value into the asynchronous generator function, and the *value* argument becomes the result of the current yield expression. The awaitable returned by the [`asend()`](https://docs.python.org/3/reference/expressions.html#agen.asend) method will return the next value yielded by the generator as the value of the raised [`StopIteration`](https://docs.python.org/3/library/exceptions.html#StopIteration), or raises [`StopAsyncIteration`](https://docs.python.org/3/library/exceptions.html#StopAsyncIteration) if the asynchronous generator exits without yielding another value. When [`asend()`](https://docs.python.org/3/reference/expressions.html#agen.asend) is called to start the asynchronous generator, it must be called with [`None`](https://docs.python.org/3/library/constants.html#None) as the argument, because there is no yield expression that could receive the value.\n",
    "\n",
    "- *coroutine* `agen.`athrow(*type*[, *value*[, *traceback*]])\n",
    "\n",
    "  Returns an awaitable that raises an exception of type `type` at the point where the asynchronous generator was paused, and returns the next value yielded by the generator function as the value of the raised [`StopIteration`](https://docs.python.org/3/library/exceptions.html#StopIteration) exception. If the asynchronous generator exits without yielding another value, a [`StopAsyncIteration`](https://docs.python.org/3/library/exceptions.html#StopAsyncIteration) exception is raised by the awaitable. If the generator function does not catch the passed-in exception, or raises a different exception, then when the awaitable is run that exception propagates to the caller of the awaitable.\n",
    "\n",
    "- *coroutine* `agen.`aclose()\n",
    "\n",
    "  Returns an awaitable that when run will throw a [`GeneratorExit`](https://docs.python.org/3/library/exceptions.html#GeneratorExit) into the asynchronous generator function at the point where it was paused. If the asynchronous generator function then exits gracefully, is already closed, or raises [`GeneratorExit`](https://docs.python.org/3/library/exceptions.html#GeneratorExit) (by not catching the exception), then the returned awaitable will raise a [`StopIteration`](https://docs.python.org/3/library/exceptions.html#StopIteration) exception. Any further awaitables returned by subsequent calls to the asynchronous generator will raise a [`StopAsyncIteration`](https://docs.python.org/3/library/exceptions.html#StopAsyncIteration) exception. If the asynchronous generator yields a value, a [`RuntimeError`](https://docs.python.org/3/library/exceptions.html#RuntimeError) is raised by the awaitable. If the asynchronous generator raises any other exception, it is propagated to the caller of the awaitable. If the asynchronous generator has already exited due to an exception or normal exit, then further calls to [`aclose()`](https://docs.python.org/3/reference/expressions.html#agen.aclose) will return an awaitable that does nothing."
   ]
  },
  {
   "cell_type": "markdown",
   "id": "46bb8313-893f-429d-a45f-a770dfd749e8",
   "metadata": {},
   "source": [
    "## 6.3. Primaries"
   ]
  },
  {
   "cell_type": "markdown",
   "id": "db46e242-335e-4eee-a42b-178eeaad06d6",
   "metadata": {},
   "source": [
    "Primaries represent the most tightly bound operations of the language. Their syntax is:\n",
    "\n",
    "> 原语代表了语言中最严格的绑定操作。它们的语法是："
   ]
  },
  {
   "cell_type": "raw",
   "id": "6d14cbac-2805-42c9-bee2-e33304bc9c31",
   "metadata": {},
   "source": [
    "primary ::=  atom | attributeref | subscription | slicing | call"
   ]
  },
  {
   "cell_type": "markdown",
   "id": "0e6a1368-b8bf-4030-a4ab-a240f23788f7",
   "metadata": {},
   "source": [
    "### 6.3.1. Attribute references"
   ]
  },
  {
   "cell_type": "markdown",
   "id": "f898625a-0497-4c66-9f56-7e6974a3a3ae",
   "metadata": {},
   "source": [
    "An attribute reference is a primary followed by a period and a name:\n",
    "\n",
    "> 一个属性引用是一个原语，后面是一个句号和一个名称。"
   ]
  },
  {
   "cell_type": "raw",
   "id": "358d52a0-674c-4f79-a30d-1e039f135549",
   "metadata": {},
   "source": [
    "attributeref ::=  primary \".\" identifier"
   ]
  },
  {
   "cell_type": "markdown",
   "id": "c7899b9b-ee43-4d48-b374-a7f83ea31649",
   "metadata": {},
   "source": [
    "The primary must evaluate to an object of a type that supports attribute references, which most objects do. This object is then asked to produce the attribute whose name is the identifier. This production can be customized by overriding the `__getattr__()` method. If this attribute is not available, the exception [`AttributeError`](https://docs.python.org/3/library/exceptions.html#AttributeError) is raised. Otherwise, the type and value of the object produced is determined by the object. Multiple evaluations of the same attribute reference may yield different objects.\n",
    "\n",
    "> Primary必须运算求值到一个支持属性引用的类型的对象，大多数对象都是这样。然后这个对象被要求产生名称为标识符的属性。这个生产可以通过重写 `__getattr__()` 方法来定制。如果这个属性不可用，就会引发异常[`AttributeError`](https://docs.python.org/3/library/exceptions.html#AttributeError)。否则，产生的对象的类型和值由对象决定。对同一属性引用的多次运算求值可能会产生不同的对象。"
   ]
  },
  {
   "cell_type": "markdown",
   "id": "672dffdd-d254-448f-b4ac-04e04dc0abff",
   "metadata": {},
   "source": [
    "### 6.3.2. Subscriptions"
   ]
  },
  {
   "cell_type": "markdown",
   "id": "c1bdfb48-55bf-4a05-84d1-e70072dbc87c",
   "metadata": {},
   "source": [
    "The subscription of an instance of a [container class](https://docs.python.org/3/reference/datamodel.html#sequence-types) will generally select an element from the container. The subscription of a [generic class](https://docs.python.org/3/glossary.html#term-generic-type) will generally return a [GenericAlias](https://docs.python.org/3/library/stdtypes.html#types-genericalias) object.\n",
    "\n",
    "> 对[容器类](https://docs.python.org/3/reference/datamodel.html#sequence-types)的实例的订阅一般会从容器中选择一个元素。对[通用类](https://docs.python.org/3/glossary.html#term-generic-type)的订阅一般会返回一个[GenericAlias](https://docs.python.org/3/library/stdtypes.html#types-genericalias)对象。"
   ]
  },
  {
   "cell_type": "raw",
   "id": "ae981694-7055-4b56-9734-9b40b06f47ea",
   "metadata": {},
   "source": [
    "subscription ::=  primary \"[\" expression_list \"]\""
   ]
  },
  {
   "cell_type": "markdown",
   "id": "aaf9a5ab-5e83-4d68-a3fe-9136c15ecf4f",
   "metadata": {},
   "source": [
    "When an object is subscripted, the interpreter will evaluate the primary and the expression list.\n",
    "\n",
    "The primary must evaluate to an object that supports subscription. An object may support subscription through defining one or both of [`__getitem__()`](https://docs.python.org/3/reference/datamodel.html#object.__getitem__) and [`__class_getitem__()`](https://docs.python.org/3/reference/datamodel.html#object.__class_getitem__). When the primary is subscripted, the evaluated result of the expression list will be passed to one of these methods. For more details on when `__class_getitem__` is called instead of `__getitem__`, see [__class_getitem__ versus __getitem__](https://docs.python.org/3/reference/datamodel.html#classgetitem-versus-getitem).\n",
    "\n",
    "> 当一个对象被下标引用时，解释器将运算求值主标和表达式列表。\n",
    ">\n",
    "> 主标必须运算求值为一个支持下标引用的对象。一个对象可以通过定义 [`__getitem__()`](https://docs.python.org/3/reference/datamodel.html#object.__getitem__) 和[`__class_getitem__()`](https://docs.python.org/3/reference/datamodel.html#object.__class_getitem__)中的一个或两个来支持下标引用。当主标被下标引用时，表达式列表的运算求值结果将被传递给这些方法中的一个。关于何时调用 `__class_getitem__` 而不是 `__getitem__` 的更多细节，请参见 [__class_getitem__ 与 __getitem__ 的比较](https://docs.python.org/3/reference/datamodel.html#classgetitem-versus-getitem)。"
   ]
  },
  {
   "cell_type": "markdown",
   "id": "88ab61e2-9572-4190-92cb-8f2ee44578e5",
   "metadata": {},
   "source": [
    "If the expression list contains at least one comma, it will evaluate to a [`tuple`](https://docs.python.org/3/library/stdtypes.html#tuple) containing the items of the expression list. Otherwise, the expression list will evaluate to the value of the list’s sole member.\n",
    "\n",
    "> 如果表达式列表至少包含一个逗号，它将运算求值为一个包含表达式列表项目的[`tuple`](https://docs.python.org/3/library/stdtypes.html#tuple)。否则，表达式列表将被运算求值为列表中唯一成员的值。"
   ]
  },
  {
   "cell_type": "markdown",
   "id": "b5a6d409-98c3-4b0c-80c6-01c5fd727a67",
   "metadata": {},
   "source": [
    "For built-in objects, there are two types of objects that support subscription via [`__getitem__()`](https://docs.python.org/3/reference/datamodel.html#object.__getitem__):\n",
    "\n",
    "1. Mappings. If the primary is a [mapping](https://docs.python.org/3/glossary.html#term-mapping), the expression list must evaluate to an object whose value is one of the keys of the mapping, and the subscription selects the value in the mapping that corresponds to that key. An example of a builtin mapping class is the [`dict`](https://docs.python.org/3/library/stdtypes.html#dict) class.\n",
    "2. Sequences. If the primary is a [sequence](https://docs.python.org/3/glossary.html#term-sequence), the expression list must evaluate to an [`int`](https://docs.python.org/3/library/functions.html#int) or a [`slice`](https://docs.python.org/3/library/functions.html#slice) (as discussed in the following section). Examples of builtin sequence classes include the [`str`](https://docs.python.org/3/library/stdtypes.html#str), [`list`](https://docs.python.org/3/library/stdtypes.html#list) and [`tuple`](https://docs.python.org/3/library/stdtypes.html#tuple) classes.\n",
    "\n",
    "> 对于内置对象，有两种类型的对象支持通过 [`__getitem__()`](https://docs.python.org/3/reference/datamodel.html#object.__getitem__) 进行下标引用。\n",
    ">\n",
    "> 1. Mapping  映射。如果主对象是[映射](https://docs.python.org/3/glossary.html#term-mapping)，表达式列表必须运算求值为一个对象，其值是映射的键之一，并且下标引用选择映射中与该键对应的值。内置映射类的一个例子是 [`dict`](https://docs.python.org/3/library/stdtypes.html#dict) 类。\n",
    "> 2. Sequences  序列。如果主键是[sequence](https://docs.python.org/3/glossary.html#term-sequence)，表达式列表必须运算求值为[`int`](https://docs.python.org/3/library/functions.html#int)或[`slice`](https://docs.python.org/3/library/functions.html#slice)（在下一节讨论）。内置序列类的例子包括[`str`](https://docs.python.org/3/library/stdtypes.html#str), [`list`](https://docs.python.org/3/library/stdtypes.html#list)和[`tuple`](https://docs.python.org/3/library/stdtypes.html#tuple)类。"
   ]
  },
  {
   "cell_type": "code",
   "execution_count": 15,
   "id": "d7805196-bca0-419c-a438-e8dcff7ecf2a",
   "metadata": {},
   "outputs": [
    {
     "data": {
      "text/plain": [
       "6"
      ]
     },
     "execution_count": 15,
     "metadata": {},
     "output_type": "execute_result"
    },
    {
     "data": {
      "text/plain": [
       "6"
      ]
     },
     "execution_count": 15,
     "metadata": {},
     "output_type": "execute_result"
    }
   ],
   "source": [
    "dic = {x : y for x in \"primary\" for y in range(7)}\n",
    "\n",
    "dic['p']\n",
    "dic.__getitem__('r')"
   ]
  },
  {
   "cell_type": "code",
   "execution_count": 17,
   "id": "88d1d32c-cd62-4ef4-87ed-de0c9f393346",
   "metadata": {},
   "outputs": [
    {
     "data": {
      "text/plain": [
       "'b'"
      ]
     },
     "execution_count": 17,
     "metadata": {},
     "output_type": "execute_result"
    },
    {
     "data": {
      "text/plain": [
       "'c'"
      ]
     },
     "execution_count": 17,
     "metadata": {},
     "output_type": "execute_result"
    }
   ],
   "source": [
    "s = 'subscription'\n",
    "\n",
    "s[2]\n",
    "s.__getitem__(4)"
   ]
  },
  {
   "cell_type": "markdown",
   "id": "2bdb7635-c048-4748-aad1-4e7941f66de7",
   "metadata": {},
   "source": [
    "The formal syntax makes no special provision for negative indices in [sequences](https://docs.python.org/3/glossary.html#term-sequence). However, built-in sequences all provide a [`__getitem__()`](https://docs.python.org/3/reference/datamodel.html#object.__getitem__) method that interprets negative indices by adding the length of the sequence to the index so that, for example, `x[-1]` selects the last item of `x`. The resulting value must be a nonnegative integer less than the number of items in the sequence, and the subscription selects the item whose index is that value (counting from zero). Since the support for negative indices and slicing occurs in the object’s `__getitem__()` method, subclasses overriding this method will need to explicitly add that support.\n",
    "\n",
    "> 在[sequences](https://docs.python.org/3/glossary.html#term-sequence)中，正式的语法没有对负索引数做出特殊规定。然而，内置的序列都提供了一个[`__getitem__()`](https://docs.python.org/3/reference/datamodel.html#object.__getitem__) 方法，该方法通过将序列的长度加到索引上来解释负索引数，因此，例如，`x[-1]`会选择`x`的最后一个项目。得到的值必须是一个小于序列中项目数的非负整数，下标引用选择索引为该值的项目（从0开始计算）。由于对负索引数和切片的支持发生在对象的 `__getitem__()` 方法中，覆盖此方法的子类将需要明确地添加该支持。"
   ]
  },
  {
   "cell_type": "markdown",
   "id": "68aaa273-ff5b-402d-b751-8a4e81e57273",
   "metadata": {},
   "source": [
    "A [`string`](https://docs.python.org/3/library/stdtypes.html#str) is a special kind of sequence whose items are *characters*. A character is not a separate data type but a string of exactly one character.\n",
    "\n",
    "> 字符串是一种特殊的序列，其项目是字符。一个字符不是一个单独的数据类型，而是一个正好是一个字符的字符串。"
   ]
  },
  {
   "cell_type": "markdown",
   "id": "09cbeaa6-b309-4ee9-bcce-3688fbd484a5",
   "metadata": {},
   "source": [
    "### 6.3.3. Slicings"
   ]
  },
  {
   "cell_type": "markdown",
   "id": "aa5ab7e1-9a9e-4337-8f2b-f40bf412789b",
   "metadata": {},
   "source": [
    "A slicing selects a range of items in a sequence object (e.g., a string, tuple or list). Slicings may be used as expressions or as targets in assignment or [`del`](https://docs.python.org/3/reference/simple_stmts.html#del) statements. The syntax for a slicing:\n",
    "\n",
    "> 切片选择序列对象（例如，字符串、元组或列表）中的项目范围。切片可以作为表达式或作为赋值或[`del`](https://docs.python.org/3/reference/simple_stmts.html#del)语句的目标使用。切片的语法是："
   ]
  },
  {
   "cell_type": "raw",
   "id": "9f6609ad-f65e-429d-be23-20a226ceed90",
   "metadata": {},
   "source": [
    "slicing      ::=  primary \"[\" slice_list \"]\"\n",
    "slice_list   ::=  slice_item (\",\" slice_item)* [\",\"]\n",
    "slice_item   ::=  expression | proper_slice\n",
    "proper_slice ::=  [lower_bound] \":\" [upper_bound] [ \":\" [stride] ]\n",
    "lower_bound  ::=  expression\n",
    "upper_bound  ::=  expression\n",
    "stride       ::=  expression"
   ]
  },
  {
   "cell_type": "markdown",
   "id": "9d3a5707-010d-4e26-99af-660c6c476abf",
   "metadata": {},
   "source": [
    "There is ambiguity in the formal syntax here: anything that looks like an expression list also looks like a slice list, so any subscription can be interpreted as a slicing. Rather than further complicating the syntax, this is disambiguated by defining that in this case the interpretation as a subscription takes priority over the interpretation as a slicing (this is the case if the slice list contains no proper slice).\n",
    "\n",
    "The semantics for a slicing are as follows. The primary is indexed (using the same `__getitem__()` method as normal subscription) with a key that is constructed from the slice list, as follows. If the slice list contains at least one comma, the key is a tuple containing the conversion of the slice items; otherwise, the conversion of the lone slice item is the key. The conversion of a slice item that is an expression is that expression. The conversion of a proper slice is a slice object (see section [The standard type hierarchy](https://docs.python.org/3/reference/datamodel.html#types)) whose `start`, `stop` and `step` attributes are the values of the expressions given as lower bound, upper bound and stride, respectively, substituting `None` for missing expressions.\n",
    "\n",
    "> 这里的正式语法存在歧义：任何看起来像表达式列表的东西也看起来像切片列表，所以任何下标引用都可以被解释为切片。在这种情况下，作为下标引用的解释优先于作为切分的解释（如果切分列表不包含适当的切分，就属于这种情况），而不是使语法进一步复杂化，这一点可以通过定义来消除歧义。\n",
    ">\n",
    "> 切片的语义如下：Primary被索引（使用与普通下标引用相同的 `__getitem__()` 方法），其键由slice列表构建，如下所示。如果切片列表至少包含一个逗号，那么键就是一个包含切片项目转换的元组；否则，唯一的切片项目的转换就是键。属于表达式的切片项目的转换是该表达式。一个适当的片断的转换是一个切片对象（见[标准类型层次](https://docs.python.org/3/reference/datamodel.html#types)一节），其 `start`、`stop `和 `step` 属性是分别作为下限、上限和stride给出的表达式的值，对于缺少的表达式用`None`代替。"
   ]
  },
  {
   "cell_type": "markdown",
   "id": "9b41c302-0d0f-44b5-b8ea-df37eb261f58",
   "metadata": {},
   "source": [
    "### 6.3.4. Calls"
   ]
  },
  {
   "cell_type": "markdown",
   "id": "31339b9a-b98a-445e-bf3b-12d54c8ee240",
   "metadata": {},
   "source": [
    "A call calls a callable object (e.g., a [function](https://docs.python.org/3/glossary.html#term-function)) with a possibly empty series of [arguments](https://docs.python.org/3/glossary.html#term-argument):\n",
    "\n",
    "> 一个调用调用一个可调用的对象（例如，一个[函数](https://docs.python.org/3/glossary.html#term-function)），其[参数](https://docs.python.org/3/glossary.html#term-argument)系列可能为空："
   ]
  },
  {
   "cell_type": "raw",
   "id": "456eff9a-3620-4c18-8bf7-ced37bf91b7b",
   "metadata": {},
   "source": [
    "call                 ::=  primary \"(\" [argument_list [\",\"] | comprehension] \")\"\n",
    "argument_list        ::=  positional_arguments [\",\" starred_and_keywords]\n",
    "                            [\",\" keywords_arguments]\n",
    "                          | starred_and_keywords [\",\" keywords_arguments]\n",
    "                          | keywords_arguments\n",
    "positional_arguments ::=  positional_item (\",\" positional_item)*\n",
    "positional_item      ::=  assignment_expression | \"*\" expression\n",
    "starred_and_keywords ::=  (\"*\" expression | keyword_item)\n",
    "                          (\",\" \"*\" expression | \",\" keyword_item)*\n",
    "keywords_arguments   ::=  (keyword_item | \"**\" expression)\n",
    "                          (\",\" keyword_item | \",\" \"**\" expression)*\n",
    "keyword_item         ::=  identifier \"=\" expression"
   ]
  },
  {
   "cell_type": "markdown",
   "id": "777ec79e-39da-4ab7-bb6e-e37b7d401f94",
   "metadata": {},
   "source": [
    "An optional trailing comma may be present after the positional and keyword arguments but does not affect the semantics.\n",
    "\n",
    "The primary must evaluate to a callable object (user-defined functions, built-in functions, methods of built-in objects, class objects, methods of class instances, and all objects having a `__call__()` method are callable). All argument expressions are evaluated before the call is attempted. Please refer to section [Function definitions](https://docs.python.org/3/reference/compound_stmts.html#function) for the syntax of formal [parameter](https://docs.python.org/3/glossary.html#term-parameter) lists.\n",
    "\n",
    "> 在位置参数和关键字参数后面可以有一个可选的尾部逗号，但不影响语义。\n",
    ">\n",
    "> 主要对象必须运算求值为一个可调用的对象（用户定义的函数、内置函数、内置对象的方法、类对象、类实例的方法、以及所有具有 `__call__()` 方法的对象都是可调用的）。在尝试调用之前，所有的参数表达式都会被运算求值。关于正式[参数](https://docs.python.org/3/glossary.html#term-parameter)列表的语法，请参考[函数定义](https://docs.python.org/3/reference/compound_stmts.html#function)一节。"
   ]
  },
  {
   "cell_type": "markdown",
   "id": "e3c67afb-26cd-4bae-aa4e-31e8e7d51733",
   "metadata": {},
   "source": [
    "If keyword arguments are present, they are first converted to positional arguments, as follows. First, a list of unfilled slots is created for the formal parameters. If there are N positional arguments, they are placed in the first N slots. Next, for each keyword argument, the identifier is used to determine the corresponding slot (if the identifier is the same as the first formal parameter name, the first slot is used, and so on). If the slot is already filled, a [`TypeError`](https://docs.python.org/3/library/exceptions.html#TypeError) exception is raised. Otherwise, the value of the argument is placed in the slot, filling it (even if the expression is `None`, it fills the slot). When all arguments have been processed, the slots that are still unfilled are filled with the corresponding default value from the function definition. (Default values are calculated, once, when the function is defined; thus, a mutable object such as a list or dictionary used as default value will be shared by all calls that don’t specify an argument value for the corresponding slot; this should usually be avoided.) If there are any unfilled slots for which no default value is specified, a [`TypeError`](https://docs.python.org/3/library/exceptions.html#TypeError) exception is raised. Otherwise, the list of filled slots is used as the argument list for the call.\n",
    "\n",
    "> 如果存在关键字参数，它们首先被转换为位置参数，如下所示。首先，为形式参数创建一个未填充槽的列表。如果有N个位置参数，它们将被放在前N个槽中。接下来，对于每个关键字参数，使用标识符来确定相应的槽（如果标识符与第一个形式参数名称相同，则使用第一个槽，以此类推）。如果槽已经被填满，就会产生一个[`TypeError`](https://docs.python.org/3/library/exceptions.html#TypeError)异常。否则，参数的值被放入槽中，填充它（即使表达式是`None`，它也会填充槽）。当所有的参数都被处理后，仍未被填满的槽会被函数定义中相应的默认值填满。(默认值是在定义函数时计算一次的；因此，像列表或字典这样的可变对象作为默认值将被所有没有为相应槽指定参数值的调用所共享；这通常应该被避免。) 如果有任何未填充的槽没有指定默认值，就会产生一个[`TypeError`](https://docs.python.org/3/library/exceptions.html#TypeError)异常。否则，填充槽的列表被用作调用的参数列表。"
   ]
  },
  {
   "cell_type": "markdown",
   "id": "6c56c937-9cb6-40ad-b531-9f89e4c881d8",
   "metadata": {},
   "source": [
    "**CPython implementation detail:** An implementation may provide built-in functions whose positional parameters do not have names, even if they are ‘named’ for the purpose of documentation, and which therefore cannot be supplied by keyword. In CPython, this is the case for functions implemented in C that use [`PyArg_ParseTuple()`](https://docs.python.org/3/c-api/arg.html#c.PyArg_ParseTuple) to parse their arguments.\n",
    "\n",
    "> **CPython的实现细节：**一个实现可以提供内置的函数，其位置参数没有名字，即使是为了文档的目的而 \"命名\"，因此不能通过关键字来提供。在CPython中，用C语言实现的函数就是这种情况，它使用[`PyArg_ParseTuple()`](https://docs.python.org/3/c-api/arg.html#c.PyArg_ParseTuple)来解析其参数。"
   ]
  },
  {
   "cell_type": "markdown",
   "id": "8b3d3434-020f-4fc2-ba61-d239853b6c59",
   "metadata": {},
   "source": [
    "If there are more positional arguments than there are formal parameter slots, a [`TypeError`](https://docs.python.org/3/library/exceptions.html#TypeError) exception is raised, unless a formal parameter using the syntax `*identifier` is present; in this case, that formal parameter receives a tuple containing the excess positional arguments (or an empty tuple if there were no excess positional arguments).\n",
    "\n",
    "If any keyword argument does not correspond to a formal parameter name, a [`TypeError`](https://docs.python.org/3/library/exceptions.html#TypeError) exception is raised, unless a formal parameter using the syntax `**identifier` is present; in this case, that formal parameter receives a dictionary containing the excess keyword arguments (using the keywords as keys and the argument values as corresponding values), or a (new) empty dictionary if there were no excess keyword arguments.\n",
    "\n",
    "If the syntax `*expression` appears in the function call, `expression` must evaluate to an [iterable](https://docs.python.org/3/glossary.html#term-iterable). Elements from these iterables are treated as if they were additional positional arguments. For the call `f(x1, x2, *y, x3, x4)`, if *y* evaluates to a sequence *y1*, …, *yM*, this is equivalent to a call with M+4 positional arguments *x1*, *x2*, *y1*, …, *yM*, *x3*, *x4*.\n",
    "\n",
    "> 如果位置参数多于形式参数槽，就会产生一个 [`TypeError`](https://docs.python.org/3/library/exceptions.html#TypeError) 异常，除非有一个使用 `*identifier` 语法的形式参数存在；在这种情况下，该形式参数收到一个包含多余位置参数的元组（如果没有多余的位置参数，则是一个空元组）。\n",
    ">\n",
    "> 如果任何关键字参数不对应形式参数名称，就会产生一个 [`TypeError`](https://docs.python.org/3/library/exceptions.html#TypeError) 异常，除非使用 `**identifier` 语法的形式参数存在；在这种情况下，该形式参数接收一个包含多余关键字参数的字典（使用关键字作为键，参数值作为对应值），如果没有多余的关键字参数，则接收一个（新）空字典。\n",
    ">\n",
    "> 如果语法 `*expression` 出现在函数调用中，`expression `必须运算求值为一个[iterable](https://docs.python.org/3/glossary.html#term-iterable)。来自这些迭代器的元素被当作额外的位置参数来处理。对于调用 `f(x1, x2, *y, x3, x4)` ，如果*y*求值为序列*y1*, ..., *yM*，这就相当于调用了M+4个位置参数*x1*, *x2*, *y1*, ..., *yM*, *x3*, *x4*。"
   ]
  },
  {
   "cell_type": "markdown",
   "id": "8db3fad0-ad08-47dd-9647-cd55cef1d84e",
   "metadata": {},
   "source": [
    "A consequence of this is that although the `*expression` syntax may appear *after* explicit keyword arguments, it is processed *before* the keyword arguments (and any `**expression` arguments – see below). So:\n",
    "\n",
    "> 这样做的结果是，尽管 `*expression` 语法可能出现在明确的关键字参数*之后*，但它被处理在关键字参数*之前*（以及任何 `**expression` 参数--见下文）。所以："
   ]
  },
  {
   "cell_type": "code",
   "execution_count": 3,
   "id": "a01d3f87-b912-4b88-9f5f-260dde8846d5",
   "metadata": {},
   "outputs": [
    {
     "name": "stdout",
     "output_type": "stream",
     "text": [
      "2 1\n"
     ]
    }
   ],
   "source": [
    "def f(a, b):\n",
    "    print(a, b)\n",
    "    \n",
    "f(b=1, *(2,))"
   ]
  },
  {
   "cell_type": "code",
   "execution_count": 4,
   "id": "a09428ff-634e-44c6-a845-bcb0c55df347",
   "metadata": {},
   "outputs": [
    {
     "ename": "TypeError",
     "evalue": "f() got multiple values for argument 'a'",
     "output_type": "error",
     "traceback": [
      "\u001b[1;31m---------------------------------------------------------------------------\u001b[0m",
      "\u001b[1;31mTypeError\u001b[0m                                 Traceback (most recent call last)",
      "Input \u001b[1;32mIn [4]\u001b[0m, in \u001b[0;36m<cell line: 1>\u001b[1;34m()\u001b[0m\n\u001b[1;32m----> 1\u001b[0m \u001b[43mf\u001b[49m\u001b[43m(\u001b[49m\u001b[43ma\u001b[49m\u001b[38;5;241;43m=\u001b[39;49m\u001b[38;5;241;43m1\u001b[39;49m\u001b[43m,\u001b[49m\u001b[43m \u001b[49m\u001b[38;5;241;43m*\u001b[39;49m\u001b[43m(\u001b[49m\u001b[38;5;241;43m2\u001b[39;49m\u001b[43m,\u001b[49m\u001b[43m)\u001b[49m\u001b[43m)\u001b[49m\n",
      "\u001b[1;31mTypeError\u001b[0m: f() got multiple values for argument 'a'"
     ]
    }
   ],
   "source": [
    "f(a=1, *(2,))"
   ]
  },
  {
   "cell_type": "code",
   "execution_count": 5,
   "id": "e74a245e-3e33-43d6-bd8d-0813a99fa9c6",
   "metadata": {},
   "outputs": [
    {
     "name": "stdout",
     "output_type": "stream",
     "text": [
      "1 2\n"
     ]
    }
   ],
   "source": [
    "f(1, *(2,))"
   ]
  },
  {
   "cell_type": "code",
   "execution_count": 8,
   "id": "ac66d4d9-9217-4541-a9ea-31e433a75f4a",
   "metadata": {},
   "outputs": [
    {
     "name": "stdout",
     "output_type": "stream",
     "text": [
      "2 1\n"
     ]
    }
   ],
   "source": [
    "f(*(2,1))"
   ]
  },
  {
   "cell_type": "code",
   "execution_count": 9,
   "id": "4342abad-cd6e-4ed4-8596-533511efbf3e",
   "metadata": {},
   "outputs": [
    {
     "name": "stdout",
     "output_type": "stream",
     "text": [
      "s t\n"
     ]
    }
   ],
   "source": [
    "f(*{'s':2, 't':1})"
   ]
  },
  {
   "cell_type": "markdown",
   "id": "f3e842ad-90ed-4aad-a1f9-9bcfb8a391d9",
   "metadata": {},
   "source": [
    "It is unusual for both keyword arguments and the `*expression` syntax to be used in the same call, so in practice this confusion does not arise.\n",
    "\n",
    "If the syntax `**expression` appears in the function call, `expression` must evaluate to a [mapping](https://docs.python.org/3/glossary.html#term-mapping), the contents of which are treated as additional keyword arguments. If a keyword is already present (as an explicit keyword argument, or from another unpacking), a [`TypeError`](https://docs.python.org/3/library/exceptions.html#TypeError) exception is raised.\n",
    "\n",
    "Formal parameters using the syntax `*identifier` or `**identifier` cannot be used as positional argument slots or as keyword argument names.\n",
    "\n",
    "> 在同一个调用中同时使用关键字参数和 `*expression` 语法的情况并不常见，所以在实践中不会出现这种混淆。\n",
    ">\n",
    "> 如果语法 `**expression` 出现在函数调用中，`expression` 必须求值为一个 [mapping](https://docs.python.org/3/glossary.html#term-mapping)，其内容被视为额外的关键字参数。如果一个关键词已经出现（作为一个显式的关键词参数，或者来自另一个解包），则会产生一个 [`TypeError`](https://docs.python.org/3/library/exceptions.html#TypeError) 异常。\n",
    ">\n",
    "> 使用语法 `*identifier` 或 `**identifier` 的形式参数不能作为位置参数槽或关键词参数名称。"
   ]
  },
  {
   "cell_type": "markdown",
   "id": "eab7ac74-363d-4821-a2e9-6f8da1dbba44",
   "metadata": {},
   "source": [
    "*Changed in version 3.5:* Function calls accept any number of `*` and `**` unpackings, positional arguments may follow iterable unpackings (`*`), and keyword arguments may follow dictionary unpackings (`**`). Originally proposed by [**PEP 448**](https://www.python.org/dev/peps/pep-0448).\n",
    "\n",
    "> *在3.5版本中改变了：*函数调用接受任意数量的 `*` 和 `**` 解包，位置参数可以跟随可迭代解包（`*`），而关键字参数可以跟随字典解包（`**`）。最初由[**PEP 448**](https://www.python.org/dev/peps/pep-0448)提出。\n",
    "\n"
   ]
  },
  {
   "cell_type": "markdown",
   "id": "1ba32f70-4676-47b3-a3f3-4ed75967a524",
   "metadata": {},
   "source": [
    "A call always returns some value, possibly `None`, unless it raises an exception. How this value is computed depends on the type of the callable object.\n",
    "\n",
    "> 一个调用总是返回一些值，可能是 `None`，除非它引发一个异常。这个值是如何计算的，取决于可调用对象的类型。"
   ]
  },
  {
   "cell_type": "markdown",
   "id": "61858b41-ca70-48a0-85ab-602a77b0a9b7",
   "metadata": {},
   "source": [
    "If it is—\n",
    "\n",
    "- a user-defined function:\n",
    "\n",
    "  The code block for the function is executed, passing it the argument list. The first thing the code block will do is bind the formal parameters to the arguments; this is described in section [Function definitions](https://docs.python.org/3/reference/compound_stmts.html#function). When the code block executes a [`return`](https://docs.python.org/3/reference/simple_stmts.html#return) statement, this specifies the return value of the function call.\n",
    "\n",
    "- a built-in function or method:\n",
    "\n",
    "  The result is up to the interpreter; see [Built-in Functions](https://docs.python.org/3/library/functions.html#built-in-funcs) for the descriptions of built-in functions and methods.\n",
    "\n",
    "- a class object:\n",
    "\n",
    "  A new instance of that class is returned.\n",
    "\n",
    "- a class instance method:\n",
    "\n",
    "  The corresponding user-defined function is called, with an argument list that is one longer than the argument list of the call: the instance becomes the first argument.\n",
    "\n",
    "- a class instance:\n",
    "\n",
    "  The class must define a `__call__()` method; the effect is then the same as if that method was called.\n",
    "\n",
    "> 如果它是-\n",
    ">\n",
    "> - a user-defined function  一个用户定义的函数：\n",
    ">\n",
    ">   该函数的代码块被执行，将参数列表传递给它。代码块要做的第一件事是将形式参数与参数绑定；这将在[函数定义](https://docs.python.org/3/reference/compound_stmts.html#function)一节中描述。当代码块执行[`return`](https://docs.python.org/3/reference/simple_stmts.html#return)语句时，这指定了函数调用的返回值。\n",
    ">\n",
    "> - a built-in function or method  一个内置函数或方法：\n",
    ">\n",
    ">   其结果由解释器决定；关于内置函数和方法的描述，请参见[内置函数](https://docs.python.org/3/library/functions.html#built-in-funcs)。\n",
    ">\n",
    "> - a class object  一个类对象：\n",
    ">\n",
    ">   返回该类的一个新实例。\n",
    ">\n",
    "> - a class instance method  一个类的实例方法：\n",
    ">\n",
    ">   相应的用户定义的函数被调用，参数列表比调用的参数列表长一个：实例成为第一个参数。\n",
    ">\n",
    "> - a class instance  一个类的实例：\n",
    ">\n",
    ">   该类必须定义一个 `__call__()` 方法；然后效果与该方法被调用时相同。"
   ]
  },
  {
   "cell_type": "markdown",
   "id": "f151a442-f409-49b6-9a0c-ae920d3460bb",
   "metadata": {},
   "source": [
    "## 6.4. Await expression"
   ]
  },
  {
   "cell_type": "markdown",
   "id": "58ff1b0e-400d-4725-8928-4609550e5b13",
   "metadata": {},
   "source": [
    "Suspend the execution of [coroutine](https://docs.python.org/3/glossary.html#term-coroutine) on an [awaitable](https://docs.python.org/3/glossary.html#term-awaitable) object. Can only be used inside a [coroutine function](https://docs.python.org/3/glossary.html#term-coroutine-function).\n",
    "\n",
    "> 延缓[coroutine](https://docs.python.org/3/glossary.html#term-coroutine)对[awareitable](https://docs.python.org/3/glossary.html#term-awaitable)对象的执行。只能在一个[coroutine函数](https://docs.python.org/3/glossary.html#term-coroutine-function)内使用。"
   ]
  },
  {
   "cell_type": "raw",
   "id": "89af0000-3377-49a0-9116-3405bbd63d34",
   "metadata": {},
   "source": [
    "await_expr ::=  \"await\" primary"
   ]
  },
  {
   "cell_type": "markdown",
   "id": "3973b1ee-d79e-4062-8fde-8b381525547f",
   "metadata": {},
   "source": [
    "*New in version 3.5.*"
   ]
  },
  {
   "cell_type": "markdown",
   "id": "a53e2c21-4bf7-4e60-982e-213ba9e2687e",
   "metadata": {},
   "source": [
    "## 6.5. The power operator"
   ]
  },
  {
   "cell_type": "markdown",
   "id": "16d8a4f9-f064-4602-86bb-0ceca2e40c94",
   "metadata": {},
   "source": [
    "The power operator binds more tightly than unary operators on its left; it binds less tightly than unary operators on its right. The syntax is:\n",
    "\n",
    "> 幂运算符比其左边的单数运算符结合得更紧密；比其右边的单数运算符结合得不紧密。其语法为："
   ]
  },
  {
   "cell_type": "raw",
   "id": "2614b47d-e8a9-44a3-8ba9-77dc380beb6c",
   "metadata": {},
   "source": [
    "power ::=  (await_expr | primary) [\"**\" u_expr]"
   ]
  },
  {
   "cell_type": "markdown",
   "id": "56d07a56-8fba-4d1c-a235-7c975e730321",
   "metadata": {},
   "source": [
    "Thus, in an unparenthesized sequence of power and unary operators, the operators are evaluated from right to left (this does not constrain the evaluation order for the operands): `-1**2` results in `-1`.\n",
    "\n",
    "The power operator has the same semantics as the built-in [`pow()`](https://docs.python.org/3/library/functions.html#pow) function, when called with two arguments: it yields its left argument raised to the power of its right argument. The numeric arguments are first converted to a common type, and the result is of that type.\n",
    "\n",
    "> 因此，在幂运算符和单数运算符的非加括号序列中，运算符从右到左被运算求值（这并不限制操作数的运算求值顺序）。`-1**2`的结果是`-1`。\n",
    ">\n",
    "> 幂运算符与内置的 [`pow()`](https://docs.python.org/3/library/functions.html#pow) 函数具有相同的语义，当调用两个参数时：它产生的左参数提高到其右参数的幂（左参数为底，右参数为幂次）。数字参数首先被转换为一个普通的类型，其结果也是这个类型。"
   ]
  },
  {
   "cell_type": "code",
   "execution_count": 4,
   "id": "c97e06db-a431-41dc-9a57-f16037e9e213",
   "metadata": {},
   "outputs": [
    {
     "data": {
      "text/plain": [
       "8"
      ]
     },
     "execution_count": 4,
     "metadata": {},
     "output_type": "execute_result"
    },
    {
     "data": {
      "text/plain": [
       "8"
      ]
     },
     "execution_count": 4,
     "metadata": {},
     "output_type": "execute_result"
    }
   ],
   "source": [
    "2**3\n",
    "pow(2,3)"
   ]
  },
  {
   "cell_type": "markdown",
   "id": "db782d30-ec11-4384-ba8d-95d68fabab89",
   "metadata": {},
   "source": [
    "For int operands, the result has the same type as the operands unless the second argument is negative; in that case, all arguments are converted to float and a float result is delivered. For example, `10**2` returns `100`, but `10**-2` returns `0.01`.\n",
    "\n",
    "Raising `0.0` to a negative power results in a [`ZeroDivisionError`](https://docs.python.org/3/library/exceptions.html#ZeroDivisionError). Raising a negative number to a fractional power results in a [`complex`](https://docs.python.org/3/library/functions.html#complex) number. (In earlier versions it raised a [`ValueError`](https://docs.python.org/3/library/exceptions.html#ValueError).)\n",
    "\n",
    "> 对于int操作数，结果的类型与操作数相同，除非第二个参数是负数；在这种情况下，所有参数都被转换为float，并给出一个float结果。例如，`10**2` 返回 `100`，但 `10**-2` 返回`0.01`。\n",
    ">\n",
    "> 将 `0.0` 给到一个负数幂，会导致一个[`ZeroDivisionError`](https://docs.python.org/3/library/exceptions.html#ZeroDivisionError)。将一个负数给到一个分数幂，会产生一个 [`complex`](https://docs.python.org/3/library/functions.html#complex) 数字。(在早期的版本中，它会产生一个[`ValueError`](https://docs.python.org/3/library/exceptions.html#ValueError)。)"
   ]
  },
  {
   "cell_type": "code",
   "execution_count": 7,
   "id": "0fabcdbb-7f6a-45f0-903d-9096c3feda30",
   "metadata": {},
   "outputs": [
    {
     "data": {
      "text/plain": [
       "-8"
      ]
     },
     "execution_count": 7,
     "metadata": {},
     "output_type": "execute_result"
    }
   ],
   "source": [
    "(-2)**3"
   ]
  },
  {
   "cell_type": "code",
   "execution_count": 8,
   "id": "6033d5dd-c00e-4bc2-84a5-09af8c62b31a",
   "metadata": {},
   "outputs": [
    {
     "data": {
      "text/plain": [
       "100"
      ]
     },
     "execution_count": 8,
     "metadata": {},
     "output_type": "execute_result"
    },
    {
     "data": {
      "text/plain": [
       "0.01"
      ]
     },
     "execution_count": 8,
     "metadata": {},
     "output_type": "execute_result"
    },
    {
     "data": {
      "text/plain": [
       "0.001"
      ]
     },
     "execution_count": 8,
     "metadata": {},
     "output_type": "execute_result"
    }
   ],
   "source": [
    "10**2\n",
    "10**-2\n",
    "10**-3"
   ]
  },
  {
   "cell_type": "code",
   "execution_count": 9,
   "id": "89592972-e9b0-4e3d-b523-f324f93355d0",
   "metadata": {},
   "outputs": [
    {
     "ename": "ZeroDivisionError",
     "evalue": "0.0 cannot be raised to a negative power",
     "output_type": "error",
     "traceback": [
      "\u001b[1;31m---------------------------------------------------------------------------\u001b[0m",
      "\u001b[1;31mZeroDivisionError\u001b[0m                         Traceback (most recent call last)",
      "Input \u001b[1;32mIn [9]\u001b[0m, in \u001b[0;36m<cell line: 1>\u001b[1;34m()\u001b[0m\n\u001b[1;32m----> 1\u001b[0m \u001b[38;5;241;43m0.0\u001b[39;49m\u001b[38;5;241;43m*\u001b[39;49m\u001b[38;5;241;43m*\u001b[39;49m\u001b[38;5;241;43m-\u001b[39;49m\u001b[38;5;241;43m2\u001b[39;49m\n",
      "\u001b[1;31mZeroDivisionError\u001b[0m: 0.0 cannot be raised to a negative power"
     ]
    }
   ],
   "source": [
    "0.0**-2"
   ]
  },
  {
   "cell_type": "code",
   "execution_count": 10,
   "id": "0b0ad3cc-a24e-44f6-97fb-d6d7b8ccd724",
   "metadata": {},
   "outputs": [
    {
     "data": {
      "text/plain": [
       "(1.0193171355373611+0.33119621404379557j)"
      ]
     },
     "execution_count": 10,
     "metadata": {},
     "output_type": "execute_result"
    }
   ],
   "source": [
    "(-2)**0.1"
   ]
  },
  {
   "cell_type": "markdown",
   "id": "bcbee46d-115a-422a-9943-e69d63e5b4f5",
   "metadata": {},
   "source": [
    "This operation can be customized using the special `__pow__()` method.\n",
    "\n",
    "> 这个操作可以使用特殊的 `__pow__()` 方法来定制。"
   ]
  },
  {
   "cell_type": "markdown",
   "id": "50147a31-1d25-4e6e-8097-b775761975bb",
   "metadata": {},
   "source": [
    "## 6.6. Unary arithmetic and bitwise operations"
   ]
  },
  {
   "cell_type": "markdown",
   "id": "bff497d5-efd9-4bc3-9f9c-65eea17c62ce",
   "metadata": {},
   "source": [
    "All unary arithmetic and bitwise operations have the same priority:\n",
    "\n",
    "> 所有单项（一元）算术和位操作都有相同的优先级："
   ]
  },
  {
   "cell_type": "raw",
   "id": "fc5b94c1-6553-4f14-bdc8-5c567275d21c",
   "metadata": {},
   "source": [
    "u_expr ::=  power | \"-\" u_expr | \"+\" u_expr | \"~\" u_expr"
   ]
  },
  {
   "cell_type": "markdown",
   "id": "43796f8a-07b1-4327-aef2-bcb719b1fab7",
   "metadata": {},
   "source": [
    "The unary `-` (minus) operator yields the negation of its numeric argument; the operation can be overridden with the `__neg__()` special method.\n",
    "\n",
    "The unary `+` (plus) operator yields its numeric argument unchanged; the operation can be overridden with the `__pos__()` special method.\n",
    "\n",
    "> 单数 `-`（减）运算符产生其数字参数的反面值；该操作可以通过 `__neg__()` 特殊方法进行重写。\n",
    ">\n",
    "> 单数的 `+`（加）运算符产生其数字参数，不作任何改变；该操作可以用 `__pos__()` 特殊方法重写。"
   ]
  },
  {
   "cell_type": "code",
   "execution_count": 14,
   "id": "18c5c637-0552-464c-9968-1a3f7fb1593c",
   "metadata": {},
   "outputs": [
    {
     "data": {
      "text/plain": [
       "3"
      ]
     },
     "execution_count": 14,
     "metadata": {},
     "output_type": "execute_result"
    },
    {
     "data": {
      "text/plain": [
       "-3"
      ]
     },
     "execution_count": 14,
     "metadata": {},
     "output_type": "execute_result"
    },
    {
     "data": {
      "text/plain": [
       "3"
      ]
     },
     "execution_count": 14,
     "metadata": {},
     "output_type": "execute_result"
    },
    {
     "data": {
      "text/plain": [
       "3"
      ]
     },
     "execution_count": 14,
     "metadata": {},
     "output_type": "execute_result"
    },
    {
     "data": {
      "text/plain": [
       "-3"
      ]
     },
     "execution_count": 14,
     "metadata": {},
     "output_type": "execute_result"
    }
   ],
   "source": [
    "a = -3\n",
    "b = +3\n",
    "-a\n",
    "-b\n",
    "a.__neg__()\n",
    "b.__pos__()\n",
    "a.__pos__()"
   ]
  },
  {
   "cell_type": "markdown",
   "id": "9e0d1354-64b0-4068-b7b8-6bf3cccad242",
   "metadata": {},
   "source": [
    "The unary `~` (invert) operator yields the bitwise inversion of its integer argument. The bitwise inversion of `x` is defined as `-(x+1)`. It only applies to integral numbers or to custom objects that override the `__invert__()` special method.\n",
    "\n",
    "> 一元的 `~`(invert)运算符可以得到其整数参数的按位反转。`x ` 的按位反转被定义为 `-(x+1)`。它只适用于整数或覆盖了`__invert__()` 特殊方法的自定义对象。"
   ]
  },
  {
   "cell_type": "code",
   "execution_count": 2,
   "id": "0d71f648-ff46-46e4-8173-500a103ffa7d",
   "metadata": {},
   "outputs": [
    {
     "data": {
      "text/plain": [
       "-2"
      ]
     },
     "execution_count": 2,
     "metadata": {},
     "output_type": "execute_result"
    }
   ],
   "source": [
    "~1"
   ]
  },
  {
   "cell_type": "markdown",
   "id": "489daac4-063c-4650-bbdc-04e554dd216b",
   "metadata": {},
   "source": [
    "In all three cases, if the argument does not have the proper type, a [`TypeError`](https://docs.python.org/3/library/exceptions.html#TypeError) exception is raised.\n",
    "\n",
    "> 在这三种情况下，如果参数没有合适的类型，就会产生一个 [`TypeError`](https://docs.python.org/3/library/exceptions.html#TypeError) 异常。"
   ]
  },
  {
   "cell_type": "markdown",
   "id": "8305fe5e-2d32-4d90-be44-e649cf9c2f81",
   "metadata": {},
   "source": [
    "## 6.7. Binary arithmetic operations"
   ]
  },
  {
   "cell_type": "markdown",
   "id": "e5f44cab-1677-4c8a-811b-7506e4281020",
   "metadata": {},
   "source": [
    "The binary arithmetic operations have the conventional priority levels. Note that some of these operations also apply to certain non-numeric types. Apart from the power operator, there are only two levels, one for multiplicative operators and one for additive operators:\n",
    "\n",
    "> 二进制算术操作具有传统的优先级。请注意，其中一些运算也适用于某些非数字类型。除了幂运算外，只有两个级别，一个用于乘法运算，一个用于加法运算。"
   ]
  },
  {
   "cell_type": "raw",
   "id": "ab9b8206-3233-43a8-a7d9-863f65fbf5b2",
   "metadata": {},
   "source": [
    "m_expr ::=  u_expr | m_expr \"*\" u_expr | m_expr \"@\" m_expr |\n",
    "            m_expr \"//\" u_expr | m_expr \"/\" u_expr |\n",
    "            m_expr \"%\" u_expr\n",
    "a_expr ::=  m_expr | a_expr \"+\" m_expr | a_expr \"-\" m_expr"
   ]
  },
  {
   "cell_type": "markdown",
   "id": "84708240-ccaa-40ea-8895-e477487141c1",
   "metadata": {},
   "source": [
    "The `*` (multiplication) operator yields the product of its arguments. The arguments must either both be numbers, or one argument must be an integer and the other must be a sequence. In the former case, the numbers are converted to a common type and then multiplied together. In the latter case, sequence repetition is performed; a negative repetition factor yields an empty sequence.\n",
    "\n",
    "This operation can be customized using the special `__mul__()` and `__rmul__()` methods.\n",
    "\n",
    "> `*`（乘法）运算符产生其参数的**乘积**。参数必须都是数字，或者一个参数必须是整数，另一个必须是序列。在前一种情况下，这些数字被转换为一个共同的类型，然后一起相乘。在后一种情况下，会进行序列重复；一个负的重复系数会产生一个空的序列。\n",
    ">\n",
    "> 这个操作可以使用特殊的 `__mul__()` 和 `__rmul__()` 方法来定制。"
   ]
  },
  {
   "cell_type": "markdown",
   "id": "99d19b4b-8996-47b4-b651-63315497533b",
   "metadata": {},
   "source": [
    "*New in version 3.5.*"
   ]
  },
  {
   "cell_type": "code",
   "execution_count": null,
   "id": "47579b9a-0e06-46bc-ba8a-57a0264f53a1",
   "metadata": {},
   "outputs": [],
   "source": []
  }
 ],
 "metadata": {
  "kernelspec": {
   "display_name": "Python 3 (ipykernel)",
   "language": "python",
   "name": "python3"
  },
  "language_info": {
   "codemirror_mode": {
    "name": "ipython",
    "version": 3
   },
   "file_extension": ".py",
   "mimetype": "text/x-python",
   "name": "python",
   "nbconvert_exporter": "python",
   "pygments_lexer": "ipython3",
   "version": "3.10.4"
  }
 },
 "nbformat": 4,
 "nbformat_minor": 5
}
